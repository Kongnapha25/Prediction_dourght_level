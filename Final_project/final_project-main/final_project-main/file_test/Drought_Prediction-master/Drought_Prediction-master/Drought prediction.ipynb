{
 "cells": [
  {
   "cell_type": "markdown",
   "metadata": {},
   "source": [
    "#### Import all the Libraries used"
   ]
  },
  {
   "cell_type": "code",
   "execution_count": 1,
   "metadata": {},
   "outputs": [
    {
     "name": "stderr",
     "output_type": "stream",
     "text": [
      "Using TensorFlow backend.\n"
     ]
    }
   ],
   "source": [
    "import pandas as pd\n",
    "import numpy as np\n",
    "\n",
    "#for visualisations of graphs\n",
    "import matplotlib.pyplot as plt \n",
    "%matplotlib inline\n",
    "\n",
    "#for datetime object\n",
    "from datetime import datetime \n",
    "\n",
    "#statsmodel libraires\n",
    "from statsmodels.tsa.stattools import adfuller                 #To check stationarity in Time Series\n",
    "from statsmodels.tsa.seasonal import seasonal_decompose\n",
    "from statsmodels.graphics.tsaplots import plot_acf\n",
    "from statsmodels.tsa.statespace.sarimax import SARIMAX         #SARIMA\n",
    "from statsmodels.tools.eval_measures import rmse\n",
    "from statsmodels.tsa.holtwinters import ExponentialSmoothing   #Holt's Winter Method\n",
    "\n",
    "#ARIMA\n",
    "from pmdarima import auto_arima\n",
    "\n",
    "#Skit-Learn\n",
    "from sklearn.preprocessing import MinMaxScaler\n",
    "from sklearn.metrics import mean_squared_error\n",
    "\n",
    "#Keras\n",
    "from keras.preprocessing.sequence import TimeseriesGenerator\n",
    "from keras.models import Sequential\n",
    "from keras.layers import Dense\n",
    "from keras.layers import LSTM"
   ]
  },
  {
   "cell_type": "code",
   "execution_count": 2,
   "metadata": {},
   "outputs": [],
   "source": [
    "import warnings                   # To ignore the warnings\n",
    "warnings.filterwarnings(\"ignore\")"
   ]
  },
  {
   "cell_type": "code",
   "execution_count": 3,
   "metadata": {},
   "outputs": [],
   "source": [
    "#Import the monthly rainfall data(from January 1901 to December 1970) for two locations:\n",
    "# 1. AJMER\n",
    "ajmer_data  = pd.read_csv(\"ajmer_rainfall_data.csv\") \n",
    "# 2. JAIPUR\n",
    "jaipur_data = pd.read_csv(\"jaipur_rainfall_data.csv\")"
   ]
  },
  {
   "cell_type": "code",
   "execution_count": 4,
   "metadata": {},
   "outputs": [
    {
     "data": {
      "text/html": [
       "<div>\n",
       "<style scoped>\n",
       "    .dataframe tbody tr th:only-of-type {\n",
       "        vertical-align: middle;\n",
       "    }\n",
       "\n",
       "    .dataframe tbody tr th {\n",
       "        vertical-align: top;\n",
       "    }\n",
       "\n",
       "    .dataframe thead th {\n",
       "        text-align: right;\n",
       "    }\n",
       "</style>\n",
       "<table border=\"1\" class=\"dataframe\">\n",
       "  <thead>\n",
       "    <tr style=\"text-align: right;\">\n",
       "      <th></th>\n",
       "      <th>YEAR</th>\n",
       "      <th>MONTH</th>\n",
       "      <th>Datetime</th>\n",
       "      <th>Rainfall</th>\n",
       "    </tr>\n",
       "  </thead>\n",
       "  <tbody>\n",
       "    <tr>\n",
       "      <th>0</th>\n",
       "      <td>1901</td>\n",
       "      <td>Jan</td>\n",
       "      <td>01-01-1901</td>\n",
       "      <td>5.082</td>\n",
       "    </tr>\n",
       "    <tr>\n",
       "      <th>1</th>\n",
       "      <td>1901</td>\n",
       "      <td>Feb</td>\n",
       "      <td>01-02-1901</td>\n",
       "      <td>0.769</td>\n",
       "    </tr>\n",
       "    <tr>\n",
       "      <th>2</th>\n",
       "      <td>1901</td>\n",
       "      <td>Mar</td>\n",
       "      <td>01-03-1901</td>\n",
       "      <td>0.182</td>\n",
       "    </tr>\n",
       "    <tr>\n",
       "      <th>3</th>\n",
       "      <td>1901</td>\n",
       "      <td>Apr</td>\n",
       "      <td>01-04-1901</td>\n",
       "      <td>0.291</td>\n",
       "    </tr>\n",
       "    <tr>\n",
       "      <th>4</th>\n",
       "      <td>1901</td>\n",
       "      <td>May</td>\n",
       "      <td>01-05-1901</td>\n",
       "      <td>3.470</td>\n",
       "    </tr>\n",
       "  </tbody>\n",
       "</table>\n",
       "</div>"
      ],
      "text/plain": [
       "   YEAR MONTH    Datetime  Rainfall\n",
       "0  1901   Jan  01-01-1901     5.082\n",
       "1  1901   Feb  01-02-1901     0.769\n",
       "2  1901   Mar  01-03-1901     0.182\n",
       "3  1901   Apr  01-04-1901     0.291\n",
       "4  1901   May  01-05-1901     3.470"
      ]
     },
     "execution_count": 4,
     "metadata": {},
     "output_type": "execute_result"
    }
   ],
   "source": [
    "ajmer_data.head()"
   ]
  },
  {
   "cell_type": "code",
   "execution_count": 5,
   "metadata": {
    "scrolled": true
   },
   "outputs": [
    {
     "data": {
      "text/html": [
       "<div>\n",
       "<style scoped>\n",
       "    .dataframe tbody tr th:only-of-type {\n",
       "        vertical-align: middle;\n",
       "    }\n",
       "\n",
       "    .dataframe tbody tr th {\n",
       "        vertical-align: top;\n",
       "    }\n",
       "\n",
       "    .dataframe thead th {\n",
       "        text-align: right;\n",
       "    }\n",
       "</style>\n",
       "<table border=\"1\" class=\"dataframe\">\n",
       "  <thead>\n",
       "    <tr style=\"text-align: right;\">\n",
       "      <th></th>\n",
       "      <th>YEAR</th>\n",
       "      <th>MONTH</th>\n",
       "      <th>Datetime</th>\n",
       "      <th>Rainfall</th>\n",
       "    </tr>\n",
       "  </thead>\n",
       "  <tbody>\n",
       "    <tr>\n",
       "      <th>835</th>\n",
       "      <td>1970</td>\n",
       "      <td>Aug</td>\n",
       "      <td>01-08-1970</td>\n",
       "      <td>332.986</td>\n",
       "    </tr>\n",
       "    <tr>\n",
       "      <th>836</th>\n",
       "      <td>1970</td>\n",
       "      <td>Sep</td>\n",
       "      <td>01-09-1970</td>\n",
       "      <td>134.737</td>\n",
       "    </tr>\n",
       "    <tr>\n",
       "      <th>837</th>\n",
       "      <td>1970</td>\n",
       "      <td>Oct</td>\n",
       "      <td>01-10-1970</td>\n",
       "      <td>0.325</td>\n",
       "    </tr>\n",
       "    <tr>\n",
       "      <th>838</th>\n",
       "      <td>1970</td>\n",
       "      <td>Nov</td>\n",
       "      <td>01-11-1970</td>\n",
       "      <td>0.000</td>\n",
       "    </tr>\n",
       "    <tr>\n",
       "      <th>839</th>\n",
       "      <td>1970</td>\n",
       "      <td>Dec</td>\n",
       "      <td>01-12-1970</td>\n",
       "      <td>0.000</td>\n",
       "    </tr>\n",
       "  </tbody>\n",
       "</table>\n",
       "</div>"
      ],
      "text/plain": [
       "     YEAR MONTH    Datetime  Rainfall\n",
       "835  1970   Aug  01-08-1970   332.986\n",
       "836  1970   Sep  01-09-1970   134.737\n",
       "837  1970   Oct  01-10-1970     0.325\n",
       "838  1970   Nov  01-11-1970     0.000\n",
       "839  1970   Dec  01-12-1970     0.000"
      ]
     },
     "execution_count": 5,
     "metadata": {},
     "output_type": "execute_result"
    }
   ],
   "source": [
    "jaipur_data.tail()"
   ]
  },
  {
   "cell_type": "code",
   "execution_count": 6,
   "metadata": {},
   "outputs": [],
   "source": [
    "#Drop year and month column\n",
    "ajmer_data  = ajmer_data.drop(['YEAR', 'MONTH'], axis=1)\n",
    "jaipur_data = jaipur_data.drop(['YEAR', 'MONTH'], axis=1)"
   ]
  },
  {
   "cell_type": "code",
   "execution_count": 7,
   "metadata": {},
   "outputs": [
    {
     "data": {
      "text/plain": [
       "Datetime     object\n",
       "Rainfall    float64\n",
       "dtype: object"
      ]
     },
     "execution_count": 7,
     "metadata": {},
     "output_type": "execute_result"
    }
   ],
   "source": [
    "#Check object types\n",
    "ajmer_data.dtypes\n",
    "jaipur_data.dtypes"
   ]
  },
  {
   "cell_type": "code",
   "execution_count": 8,
   "metadata": {},
   "outputs": [],
   "source": [
    "#convert object dtype to datetime\n",
    "ajmer_data['Datetime'] = pd.to_datetime(ajmer_data.Datetime,format='%d-%m-%Y')\n",
    "jaipur_data['Datetime'] = pd.to_datetime(jaipur_data.Datetime,format='%d-%m-%Y')"
   ]
  },
  {
   "cell_type": "code",
   "execution_count": 9,
   "metadata": {},
   "outputs": [],
   "source": [
    "#create months column\n",
    "for i in (ajmer_data, jaipur_data): \n",
    "    i['month']=i.Datetime.dt.month "
   ]
  },
  {
   "cell_type": "code",
   "execution_count": 10,
   "metadata": {},
   "outputs": [
    {
     "data": {
      "text/plain": [
       "Datetime    datetime64[ns]\n",
       "Rainfall           float64\n",
       "month                int64\n",
       "dtype: object"
      ]
     },
     "execution_count": 10,
     "metadata": {},
     "output_type": "execute_result"
    }
   ],
   "source": [
    "#check object type\n",
    "ajmer_data.dtypes\n",
    "jaipur_data.dtypes"
   ]
  },
  {
   "cell_type": "code",
   "execution_count": 11,
   "metadata": {
    "scrolled": true
   },
   "outputs": [
    {
     "data": {
      "text/html": [
       "<div>\n",
       "<style scoped>\n",
       "    .dataframe tbody tr th:only-of-type {\n",
       "        vertical-align: middle;\n",
       "    }\n",
       "\n",
       "    .dataframe tbody tr th {\n",
       "        vertical-align: top;\n",
       "    }\n",
       "\n",
       "    .dataframe thead th {\n",
       "        text-align: right;\n",
       "    }\n",
       "</style>\n",
       "<table border=\"1\" class=\"dataframe\">\n",
       "  <thead>\n",
       "    <tr style=\"text-align: right;\">\n",
       "      <th></th>\n",
       "      <th>Datetime</th>\n",
       "      <th>Rainfall</th>\n",
       "      <th>month</th>\n",
       "    </tr>\n",
       "  </thead>\n",
       "  <tbody>\n",
       "    <tr>\n",
       "      <th>0</th>\n",
       "      <td>1901-01-01</td>\n",
       "      <td>5.082</td>\n",
       "      <td>1</td>\n",
       "    </tr>\n",
       "    <tr>\n",
       "      <th>1</th>\n",
       "      <td>1901-02-01</td>\n",
       "      <td>0.769</td>\n",
       "      <td>2</td>\n",
       "    </tr>\n",
       "    <tr>\n",
       "      <th>2</th>\n",
       "      <td>1901-03-01</td>\n",
       "      <td>0.182</td>\n",
       "      <td>3</td>\n",
       "    </tr>\n",
       "    <tr>\n",
       "      <th>3</th>\n",
       "      <td>1901-04-01</td>\n",
       "      <td>0.291</td>\n",
       "      <td>4</td>\n",
       "    </tr>\n",
       "    <tr>\n",
       "      <th>4</th>\n",
       "      <td>1901-05-01</td>\n",
       "      <td>3.470</td>\n",
       "      <td>5</td>\n",
       "    </tr>\n",
       "  </tbody>\n",
       "</table>\n",
       "</div>"
      ],
      "text/plain": [
       "    Datetime  Rainfall  month\n",
       "0 1901-01-01     5.082      1\n",
       "1 1901-02-01     0.769      2\n",
       "2 1901-03-01     0.182      3\n",
       "3 1901-04-01     0.291      4\n",
       "4 1901-05-01     3.470      5"
      ]
     },
     "execution_count": 11,
     "metadata": {},
     "output_type": "execute_result"
    }
   ],
   "source": [
    "ajmer_data.head()"
   ]
  },
  {
   "cell_type": "code",
   "execution_count": 12,
   "metadata": {},
   "outputs": [
    {
     "data": {
      "text/html": [
       "<div>\n",
       "<style scoped>\n",
       "    .dataframe tbody tr th:only-of-type {\n",
       "        vertical-align: middle;\n",
       "    }\n",
       "\n",
       "    .dataframe tbody tr th {\n",
       "        vertical-align: top;\n",
       "    }\n",
       "\n",
       "    .dataframe thead th {\n",
       "        text-align: right;\n",
       "    }\n",
       "</style>\n",
       "<table border=\"1\" class=\"dataframe\">\n",
       "  <thead>\n",
       "    <tr style=\"text-align: right;\">\n",
       "      <th></th>\n",
       "      <th>Datetime</th>\n",
       "      <th>Rainfall</th>\n",
       "      <th>month</th>\n",
       "    </tr>\n",
       "  </thead>\n",
       "  <tbody>\n",
       "    <tr>\n",
       "      <th>835</th>\n",
       "      <td>1970-08-01</td>\n",
       "      <td>332.986</td>\n",
       "      <td>8</td>\n",
       "    </tr>\n",
       "    <tr>\n",
       "      <th>836</th>\n",
       "      <td>1970-09-01</td>\n",
       "      <td>134.737</td>\n",
       "      <td>9</td>\n",
       "    </tr>\n",
       "    <tr>\n",
       "      <th>837</th>\n",
       "      <td>1970-10-01</td>\n",
       "      <td>0.325</td>\n",
       "      <td>10</td>\n",
       "    </tr>\n",
       "    <tr>\n",
       "      <th>838</th>\n",
       "      <td>1970-11-01</td>\n",
       "      <td>0.000</td>\n",
       "      <td>11</td>\n",
       "    </tr>\n",
       "    <tr>\n",
       "      <th>839</th>\n",
       "      <td>1970-12-01</td>\n",
       "      <td>0.000</td>\n",
       "      <td>12</td>\n",
       "    </tr>\n",
       "  </tbody>\n",
       "</table>\n",
       "</div>"
      ],
      "text/plain": [
       "      Datetime  Rainfall  month\n",
       "835 1970-08-01   332.986      8\n",
       "836 1970-09-01   134.737      9\n",
       "837 1970-10-01     0.325     10\n",
       "838 1970-11-01     0.000     11\n",
       "839 1970-12-01     0.000     12"
      ]
     },
     "execution_count": 12,
     "metadata": {},
     "output_type": "execute_result"
    }
   ],
   "source": [
    "jaipur_data.tail()"
   ]
  },
  {
   "cell_type": "markdown",
   "metadata": {},
   "source": [
    "### Plot cummulative monthly rainfall"
   ]
  },
  {
   "cell_type": "code",
   "execution_count": 13,
   "metadata": {},
   "outputs": [
    {
     "data": {
      "text/plain": [
       "<matplotlib.axes._subplots.AxesSubplot at 0x1a2a8b5b6a0>"
      ]
     },
     "execution_count": 13,
     "metadata": {},
     "output_type": "execute_result"
    },
    {
     "data": {
      "image/png": "[encoded data removed]",
      "text/plain": [
       "<Figure size 432x288 with 1 Axes>"
      ]
     },
     "metadata": {
      "needs_background": "light"
     },
     "output_type": "display_data"
    }
   ],
   "source": [
    "ajmer_data.groupby('month')['Rainfall'].mean().plot.bar()"
   ]
  },
  {
   "cell_type": "code",
   "execution_count": 14,
   "metadata": {},
   "outputs": [
    {
     "data": {
      "text/plain": [
       "<matplotlib.axes._subplots.AxesSubplot at 0x1a2a8eb4b38>"
      ]
     },
     "execution_count": 14,
     "metadata": {},
     "output_type": "execute_result"
    },
    {
     "data": {
      "image/png": "[encoded data removed]",
      "text/plain": [
       "<Figure size 432x288 with 1 Axes>"
      ]
     },
     "metadata": {
      "needs_background": "light"
     },
     "output_type": "display_data"
    }
   ],
   "source": [
    "jaipur_data.groupby('month')['Rainfall'].mean().plot.bar()"
   ]
  },
  {
   "cell_type": "markdown",
   "metadata": {},
   "source": [
    "#### Both the location found to have highest rainfall during JULY and AUGUST"
   ]
  },
  {
   "cell_type": "code",
   "execution_count": 15,
   "metadata": {},
   "outputs": [],
   "source": [
    "#Create timestamp\n",
    "ajmer_data.Timestamp = pd.to_datetime(ajmer_data.Datetime,format='%d-%m-%Y') \n",
    "ajmer_data.index = ajmer_data.Timestamp \n",
    "jaipur_data.Timestamp = pd.to_datetime(jaipur_data.Datetime,format='%d-%m-%Y') \n",
    "jaipur_data.index = jaipur_data.Timestamp "
   ]
  },
  {
   "cell_type": "code",
   "execution_count": 16,
   "metadata": {},
   "outputs": [],
   "source": [
    "ajmer_data  = ajmer_data.drop(['Datetime','month'], axis=1)\n",
    "jaipur_data = jaipur_data.drop(['Datetime','month'], axis=1)"
   ]
  },
  {
   "cell_type": "code",
   "execution_count": 17,
   "metadata": {
    "scrolled": true
   },
   "outputs": [
    {
     "data": {
      "text/html": [
       "<div>\n",
       "<style scoped>\n",
       "    .dataframe tbody tr th:only-of-type {\n",
       "        vertical-align: middle;\n",
       "    }\n",
       "\n",
       "    .dataframe tbody tr th {\n",
       "        vertical-align: top;\n",
       "    }\n",
       "\n",
       "    .dataframe thead th {\n",
       "        text-align: right;\n",
       "    }\n",
       "</style>\n",
       "<table border=\"1\" class=\"dataframe\">\n",
       "  <thead>\n",
       "    <tr style=\"text-align: right;\">\n",
       "      <th></th>\n",
       "      <th>Rainfall</th>\n",
       "    </tr>\n",
       "    <tr>\n",
       "      <th>Datetime</th>\n",
       "      <th></th>\n",
       "    </tr>\n",
       "  </thead>\n",
       "  <tbody>\n",
       "    <tr>\n",
       "      <th>1901-01-01</th>\n",
       "      <td>5.082</td>\n",
       "    </tr>\n",
       "    <tr>\n",
       "      <th>1901-02-01</th>\n",
       "      <td>0.769</td>\n",
       "    </tr>\n",
       "    <tr>\n",
       "      <th>1901-03-01</th>\n",
       "      <td>0.182</td>\n",
       "    </tr>\n",
       "    <tr>\n",
       "      <th>1901-04-01</th>\n",
       "      <td>0.291</td>\n",
       "    </tr>\n",
       "    <tr>\n",
       "      <th>1901-05-01</th>\n",
       "      <td>3.470</td>\n",
       "    </tr>\n",
       "  </tbody>\n",
       "</table>\n",
       "</div>"
      ],
      "text/plain": [
       "            Rainfall\n",
       "Datetime            \n",
       "1901-01-01     5.082\n",
       "1901-02-01     0.769\n",
       "1901-03-01     0.182\n",
       "1901-04-01     0.291\n",
       "1901-05-01     3.470"
      ]
     },
     "execution_count": 17,
     "metadata": {},
     "output_type": "execute_result"
    }
   ],
   "source": [
    "ajmer_data.head()"
   ]
  },
  {
   "cell_type": "code",
   "execution_count": 18,
   "metadata": {
    "scrolled": true
   },
   "outputs": [
    {
     "data": {
      "text/html": [
       "<div>\n",
       "<style scoped>\n",
       "    .dataframe tbody tr th:only-of-type {\n",
       "        vertical-align: middle;\n",
       "    }\n",
       "\n",
       "    .dataframe tbody tr th {\n",
       "        vertical-align: top;\n",
       "    }\n",
       "\n",
       "    .dataframe thead th {\n",
       "        text-align: right;\n",
       "    }\n",
       "</style>\n",
       "<table border=\"1\" class=\"dataframe\">\n",
       "  <thead>\n",
       "    <tr style=\"text-align: right;\">\n",
       "      <th></th>\n",
       "      <th>Rainfall</th>\n",
       "    </tr>\n",
       "    <tr>\n",
       "      <th>Datetime</th>\n",
       "      <th></th>\n",
       "    </tr>\n",
       "  </thead>\n",
       "  <tbody>\n",
       "    <tr>\n",
       "      <th>1970-08-01</th>\n",
       "      <td>332.986</td>\n",
       "    </tr>\n",
       "    <tr>\n",
       "      <th>1970-09-01</th>\n",
       "      <td>134.737</td>\n",
       "    </tr>\n",
       "    <tr>\n",
       "      <th>1970-10-01</th>\n",
       "      <td>0.325</td>\n",
       "    </tr>\n",
       "    <tr>\n",
       "      <th>1970-11-01</th>\n",
       "      <td>0.000</td>\n",
       "    </tr>\n",
       "    <tr>\n",
       "      <th>1970-12-01</th>\n",
       "      <td>0.000</td>\n",
       "    </tr>\n",
       "  </tbody>\n",
       "</table>\n",
       "</div>"
      ],
      "text/plain": [
       "            Rainfall\n",
       "Datetime            \n",
       "1970-08-01   332.986\n",
       "1970-09-01   134.737\n",
       "1970-10-01     0.325\n",
       "1970-11-01     0.000\n",
       "1970-12-01     0.000"
      ]
     },
     "execution_count": 18,
     "metadata": {},
     "output_type": "execute_result"
    }
   ],
   "source": [
    "jaipur_data.tail()"
   ]
  },
  {
   "cell_type": "markdown",
   "metadata": {},
   "source": [
    "# Visualisations"
   ]
  },
  {
   "cell_type": "markdown",
   "metadata": {},
   "source": [
    "## Ajmer "
   ]
  },
  {
   "cell_type": "code",
   "execution_count": 27,
   "metadata": {},
   "outputs": [
    {
     "data": {
      "text/plain": [
       "<matplotlib.axes._subplots.AxesSubplot at 0x26e5b270f60>"
      ]
     },
     "execution_count": 27,
     "metadata": {},
     "output_type": "execute_result"
    },
    {
     "data": {
      "image/png": "[encoded data removed]",
      "text/plain": [
       "<Figure size 1152x288 with 1 Axes>"
      ]
     },
     "metadata": {
      "needs_background": "light"
     },
     "output_type": "display_data"
    }
   ],
   "source": [
    "ajmer_data.plot(figsize=(16,4))"
   ]
  },
  {
   "cell_type": "code",
   "execution_count": 28,
   "metadata": {},
   "outputs": [
    {
     "data": {
      "image/png": "[encoded data removed]",
      "text/plain": [
       "<Figure size 432x288 with 4 Axes>"
      ]
     },
     "metadata": {
      "needs_background": "light"
     },
     "output_type": "display_data"
    }
   ],
   "source": [
    "seasonal_decompose(ajmer_data['Rainfall'], model='additive').plot();"
   ]
  },
  {
   "cell_type": "markdown",
   "metadata": {},
   "source": [
    "### Autocorrelation plot"
   ]
  },
  {
   "cell_type": "code",
   "execution_count": 29,
   "metadata": {
    "scrolled": true
   },
   "outputs": [
    {
     "data": {
      "image/png": "[encoded data removed]",
      "text/plain": [
       "<Figure size 432x288 with 1 Axes>"
      ]
     },
     "metadata": {
      "needs_background": "light"
     },
     "output_type": "display_data"
    }
   ],
   "source": [
    "title = 'Autocorrelation: monthly rainfall(Ajmer)'\n",
    "lags = 100\n",
    "plot_acf(ajmer_data,title=title,lags=lags);"
   ]
  },
  {
   "cell_type": "markdown",
   "metadata": {
    "scrolled": true
   },
   "source": [
    "## Jaipur"
   ]
  },
  {
   "cell_type": "code",
   "execution_count": 30,
   "metadata": {},
   "outputs": [
    {
     "data": {
      "text/plain": [
       "<matplotlib.axes._subplots.AxesSubplot at 0x26e5b5cc048>"
      ]
     },
     "execution_count": 30,
     "metadata": {},
     "output_type": "execute_result"
    },
    {
     "data": {
      "image/png": "[encoded data removed]",
      "text/plain": [
       "<Figure size 1152x288 with 1 Axes>"
      ]
     },
     "metadata": {
      "needs_background": "light"
     },
     "output_type": "display_data"
    }
   ],
   "source": [
    "jaipur_data.plot(figsize=(16,4))"
   ]
  },
  {
   "cell_type": "code",
   "execution_count": 31,
   "metadata": {},
   "outputs": [
    {
     "data": {
      "image/png": "[encoded data removed]",
      "text/plain": [
       "<Figure size 432x288 with 4 Axes>"
      ]
     },
     "metadata": {
      "needs_background": "light"
     },
     "output_type": "display_data"
    }
   ],
   "source": [
    "seasonal_decompose(jaipur_data['Rainfall'], model='additive').plot();"
   ]
  },
  {
   "cell_type": "markdown",
   "metadata": {},
   "source": [
    "### Autocorrelation plot"
   ]
  },
  {
   "cell_type": "code",
   "execution_count": 32,
   "metadata": {
    "scrolled": true
   },
   "outputs": [
    {
     "data": {
      "image/png": "[encoded data removed]",
      "text/plain": [
       "<Figure size 432x288 with 1 Axes>"
      ]
     },
     "metadata": {
      "needs_background": "light"
     },
     "output_type": "display_data"
    }
   ],
   "source": [
    "title = 'Autocorrelation: monthly rainfall(Jaipur)'\n",
    "lags = 100\n",
    "plot_acf(jaipur_data,title=title,lags=lags);"
   ]
  },
  {
   "cell_type": "markdown",
   "metadata": {},
   "source": [
    "#### From the visualisaiton data seems to be seasonal."
   ]
  },
  {
   "cell_type": "markdown",
   "metadata": {},
   "source": [
    "### Let's check Stationary of the Time Series using Augmented Dickey-Fuller Test"
   ]
  },
  {
   "cell_type": "markdown",
   "metadata": {},
   "source": [
    "#### Null hypothesis is that datasets are not stationary"
   ]
  },
  {
   "cell_type": "code",
   "execution_count": 33,
   "metadata": {},
   "outputs": [
    {
     "name": "stdout",
     "output_type": "stream",
     "text": [
      "Augmented Dickey-Fuller Test on Ajmer Rainfall Data\n"
     ]
    },
    {
     "data": {
      "text/plain": [
       "(-7.983073684534115,\n",
       " 2.5920331501661086e-12,\n",
       " 21,\n",
       " 818,\n",
       " {'1%': -3.438369485934381,\n",
       "  '5%': -2.865079774912655,\n",
       "  '10%': -2.5686548826226527},\n",
       " 8875.282134374687)"
      ]
     },
     "execution_count": 33,
     "metadata": {},
     "output_type": "execute_result"
    }
   ],
   "source": [
    "print('Augmented Dickey-Fuller Test on Ajmer Rainfall Data')\n",
    "dftest = adfuller(ajmer_data['Rainfall'],autolag='AIC')\n",
    "dftest"
   ]
  },
  {
   "cell_type": "code",
   "execution_count": 34,
   "metadata": {},
   "outputs": [
    {
     "name": "stdout",
     "output_type": "stream",
     "text": [
      "Augmented Dickey-Fuller Test on Jaipur Rainfall Data\n"
     ]
    },
    {
     "data": {
      "text/plain": [
       "(-8.149674880455143,\n",
       " 9.772534997593679e-13,\n",
       " 21,\n",
       " 818,\n",
       " {'1%': -3.438369485934381,\n",
       "  '5%': -2.865079774912655,\n",
       "  '10%': -2.5686548826226527},\n",
       " 8904.248513465602)"
      ]
     },
     "execution_count": 34,
     "metadata": {},
     "output_type": "execute_result"
    }
   ],
   "source": [
    "print('Augmented Dickey-Fuller Test on Jaipur Rainfall Data')\n",
    "dftest = adfuller(jaipur_data['Rainfall'],autolag='AIC')\n",
    "dftest"
   ]
  },
  {
   "cell_type": "markdown",
   "metadata": {},
   "source": [
    "#### Since p-value<0.05, we reject the null hypothesis\n",
    "#### Hence both the datasets are stationary."
   ]
  },
  {
   "cell_type": "code",
   "execution_count": 54,
   "metadata": {},
   "outputs": [],
   "source": [
    "### Train Test Split"
   ]
  },
  {
   "cell_type": "code",
   "execution_count": 55,
   "metadata": {},
   "outputs": [
    {
     "data": {
      "text/plain": [
       "840"
      ]
     },
     "execution_count": 55,
     "metadata": {},
     "output_type": "execute_result"
    }
   ],
   "source": [
    "len(ajmer_data)\n",
    "len(jaipur_data)"
   ]
  },
  {
   "cell_type": "code",
   "execution_count": 57,
   "metadata": {},
   "outputs": [],
   "source": [
    "# Set two year for testing\n",
    "\n",
    "train_a = ajmer_data.iloc[:816]\n",
    "test_a = ajmer_data.iloc[816:]\n",
    "\n",
    "train_j = jaipur_data.iloc[:816]\n",
    "test_j = jaipur_data.iloc[816:]"
   ]
  },
  {
   "cell_type": "markdown",
   "metadata": {},
   "source": [
    "# MODELS"
   ]
  },
  {
   "cell_type": "markdown",
   "metadata": {},
   "source": [
    "## 1. ARIMA"
   ]
  },
  {
   "cell_type": "markdown",
   "metadata": {},
   "source": [
    "### Checks the best fit model ARIMA to be used along with its parameter"
   ]
  },
  {
   "cell_type": "code",
   "execution_count": 37,
   "metadata": {},
   "outputs": [
    {
     "name": "stdout",
     "output_type": "stream",
     "text": [
      "Fit ARIMA: order=(0, 0, 0) seasonal_order=(1, 0, 1, 12); AIC=8933.805, BIC=8952.739, Fit time=2.939 seconds\n",
      "Fit ARIMA: order=(0, 0, 0) seasonal_order=(0, 0, 0, 12); AIC=9718.228, BIC=9727.695, Fit time=0.051 seconds\n",
      "Fit ARIMA: order=(1, 0, 0) seasonal_order=(1, 0, 0, 12); AIC=9249.891, BIC=9268.825, Fit time=1.684 seconds\n",
      "Fit ARIMA: order=(0, 0, 1) seasonal_order=(0, 0, 1, 12); AIC=9416.911, BIC=9435.844, Fit time=1.463 seconds\n",
      "Fit ARIMA: order=(0, 0, 0) seasonal_order=(0, 0, 1, 12); AIC=9477.511, BIC=9491.711, Fit time=0.650 seconds\n",
      "Fit ARIMA: order=(0, 0, 0) seasonal_order=(2, 0, 1, 12); AIC=9262.761, BIC=9286.428, Fit time=5.836 seconds\n",
      "Fit ARIMA: order=(0, 0, 0) seasonal_order=(1, 0, 0, 12); AIC=9259.367, BIC=9273.567, Fit time=1.004 seconds\n",
      "Fit ARIMA: order=(0, 0, 0) seasonal_order=(1, 0, 2, 12); AIC=8996.513, BIC=9020.180, Fit time=9.253 seconds\n",
      "Fit ARIMA: order=(0, 0, 0) seasonal_order=(2, 0, 2, 12); AIC=8969.693, BIC=8998.093, Fit time=10.222 seconds\n",
      "Fit ARIMA: order=(1, 0, 0) seasonal_order=(1, 0, 1, 12); AIC=8934.881, BIC=8958.548, Fit time=3.344 seconds\n",
      "Fit ARIMA: order=(0, 0, 1) seasonal_order=(1, 0, 1, 12); AIC=8947.743, BIC=8971.410, Fit time=3.420 seconds\n",
      "Fit ARIMA: order=(1, 0, 1) seasonal_order=(1, 0, 1, 12); AIC=8941.575, BIC=8969.975, Fit time=3.938 seconds\n",
      "Total fit time: 43.819 seconds\n"
     ]
    },
    {
     "data": {
      "text/html": [
       "<table class=\"simpletable\">\n",
       "<caption>Statespace Model Results</caption>\n",
       "<tr>\n",
       "  <th>Dep. Variable:</th>             <td>y</td>          <th>  No. Observations:  </th>    <td>840</td>   \n",
       "</tr>\n",
       "<tr>\n",
       "  <th>Model:</th>           <td>SARIMAX(1, 0, 1, 12)</td> <th>  Log Likelihood     </th> <td>-4462.903</td>\n",
       "</tr>\n",
       "<tr>\n",
       "  <th>Date:</th>              <td>Sat, 25 Apr 2020</td>   <th>  AIC                </th> <td>8933.805</td> \n",
       "</tr>\n",
       "<tr>\n",
       "  <th>Time:</th>                  <td>03:21:20</td>       <th>  BIC                </th> <td>8952.739</td> \n",
       "</tr>\n",
       "<tr>\n",
       "  <th>Sample:</th>                    <td>0</td>          <th>  HQIC               </th> <td>8941.062</td> \n",
       "</tr>\n",
       "<tr>\n",
       "  <th></th>                        <td> - 840</td>        <th>                     </th>     <td> </td>    \n",
       "</tr>\n",
       "<tr>\n",
       "  <th>Covariance Type:</th>          <td>opg</td>         <th>                     </th>     <td> </td>    \n",
       "</tr>\n",
       "</table>\n",
       "<table class=\"simpletable\">\n",
       "<tr>\n",
       "      <td></td>         <th>coef</th>     <th>std err</th>      <th>z</th>      <th>P>|z|</th>  <th>[0.025</th>    <th>0.975]</th>  \n",
       "</tr>\n",
       "<tr>\n",
       "  <th>intercept</th> <td>    0.0300</td> <td>    0.038</td> <td>    0.796</td> <td> 0.426</td> <td>   -0.044</td> <td>    0.104</td>\n",
       "</tr>\n",
       "<tr>\n",
       "  <th>ar.S.L12</th>  <td>    0.9993</td> <td>    0.001</td> <td> 1796.583</td> <td> 0.000</td> <td>    0.998</td> <td>    1.000</td>\n",
       "</tr>\n",
       "<tr>\n",
       "  <th>ma.S.L12</th>  <td>   -0.9599</td> <td>    0.010</td> <td>  -91.932</td> <td> 0.000</td> <td>   -0.980</td> <td>   -0.939</td>\n",
       "</tr>\n",
       "<tr>\n",
       "  <th>sigma2</th>    <td> 2329.4398</td> <td>   56.462</td> <td>   41.257</td> <td> 0.000</td> <td> 2218.777</td> <td> 2440.102</td>\n",
       "</tr>\n",
       "</table>\n",
       "<table class=\"simpletable\">\n",
       "<tr>\n",
       "  <th>Ljung-Box (Q):</th>          <td>37.45</td> <th>  Jarque-Bera (JB):  </th> <td>3468.81</td>\n",
       "</tr>\n",
       "<tr>\n",
       "  <th>Prob(Q):</th>                <td>0.59</td>  <th>  Prob(JB):          </th>  <td>0.00</td>  \n",
       "</tr>\n",
       "<tr>\n",
       "  <th>Heteroskedasticity (H):</th> <td>0.72</td>  <th>  Skew:              </th>  <td>2.14</td>  \n",
       "</tr>\n",
       "<tr>\n",
       "  <th>Prob(H) (two-sided):</th>    <td>0.01</td>  <th>  Kurtosis:          </th>  <td>11.99</td> \n",
       "</tr>\n",
       "</table><br/><br/>Warnings:<br/>[1] Covariance matrix calculated using the outer product of gradients (complex-step)."
      ],
      "text/plain": [
       "<class 'statsmodels.iolib.summary.Summary'>\n",
       "\"\"\"\n",
       "                            Statespace Model Results                            \n",
       "================================================================================\n",
       "Dep. Variable:                        y   No. Observations:                  840\n",
       "Model:             SARIMAX(1, 0, 1, 12)   Log Likelihood               -4462.903\n",
       "Date:                  Sat, 25 Apr 2020   AIC                           8933.805\n",
       "Time:                          03:21:20   BIC                           8952.739\n",
       "Sample:                               0   HQIC                          8941.062\n",
       "                                  - 840                                         \n",
       "Covariance Type:                    opg                                         \n",
       "==============================================================================\n",
       "                 coef    std err          z      P>|z|      [0.025      0.975]\n",
       "------------------------------------------------------------------------------\n",
       "intercept      0.0300      0.038      0.796      0.426      -0.044       0.104\n",
       "ar.S.L12       0.9993      0.001   1796.583      0.000       0.998       1.000\n",
       "ma.S.L12      -0.9599      0.010    -91.932      0.000      -0.980      -0.939\n",
       "sigma2      2329.4398     56.462     41.257      0.000    2218.777    2440.102\n",
       "===================================================================================\n",
       "Ljung-Box (Q):                       37.45   Jarque-Bera (JB):              3468.81\n",
       "Prob(Q):                              0.59   Prob(JB):                         0.00\n",
       "Heteroskedasticity (H):               0.72   Skew:                             2.14\n",
       "Prob(H) (two-sided):                  0.01   Kurtosis:                        11.99\n",
       "===================================================================================\n",
       "\n",
       "Warnings:\n",
       "[1] Covariance matrix calculated using the outer product of gradients (complex-step).\n",
       "\"\"\""
      ]
     },
     "execution_count": 37,
     "metadata": {},
     "output_type": "execute_result"
    }
   ],
   "source": [
    "stepwise_fit = auto_arima(ajmer_data['Rainfall'], start_p=0, start_q=0,\n",
    "                          max_p=6, max_q=3, m=12,\n",
    "                          seasonal=True,\n",
    "                          d=None, trace=True,\n",
    "                          error_action='ignore',   # we don't want to know if an order does not work\n",
    "                          suppress_warnings=True,  # we don't want convergence warnings\n",
    "                          stepwise=True)           # set to stepwise\n",
    "\n",
    "stepwise_fit.summary()"
   ]
  },
  {
   "cell_type": "code",
   "execution_count": 35,
   "metadata": {},
   "outputs": [
    {
     "name": "stdout",
     "output_type": "stream",
     "text": [
      "Fit ARIMA: order=(0, 0, 0) seasonal_order=(1, 0, 1, 12); AIC=8906.090, BIC=8925.023, Fit time=2.938 seconds\n",
      "Fit ARIMA: order=(0, 0, 0) seasonal_order=(0, 0, 0, 12); AIC=9825.937, BIC=9835.404, Fit time=0.034 seconds\n",
      "Fit ARIMA: order=(1, 0, 0) seasonal_order=(1, 0, 0, 12); AIC=9255.201, BIC=9274.135, Fit time=1.550 seconds\n",
      "Fit ARIMA: order=(0, 0, 1) seasonal_order=(0, 0, 1, 12); AIC=9459.211, BIC=9478.144, Fit time=1.359 seconds\n",
      "Fit ARIMA: order=(0, 0, 0) seasonal_order=(0, 0, 1, 12); AIC=9540.370, BIC=9554.570, Fit time=0.629 seconds\n",
      "Fit ARIMA: order=(0, 0, 0) seasonal_order=(2, 0, 1, 12); AIC=8922.454, BIC=8946.121, Fit time=8.545 seconds\n",
      "Fit ARIMA: order=(0, 0, 0) seasonal_order=(1, 0, 0, 12); AIC=9271.482, BIC=9285.683, Fit time=0.907 seconds\n",
      "Fit ARIMA: order=(0, 0, 0) seasonal_order=(1, 0, 2, 12); AIC=8963.406, BIC=8987.073, Fit time=8.572 seconds\n",
      "Fit ARIMA: order=(0, 0, 0) seasonal_order=(2, 0, 2, 12); AIC=nan, BIC=nan, Fit time=nan seconds\n",
      "Fit ARIMA: order=(1, 0, 0) seasonal_order=(1, 0, 1, 12); AIC=8905.180, BIC=8928.847, Fit time=3.569 seconds\n",
      "Fit ARIMA: order=(1, 0, 1) seasonal_order=(1, 0, 1, 12); AIC=8909.199, BIC=8937.600, Fit time=5.874 seconds\n",
      "Fit ARIMA: order=(2, 0, 1) seasonal_order=(1, 0, 1, 12); AIC=nan, BIC=nan, Fit time=nan seconds\n",
      "Fit ARIMA: order=(1, 0, 0) seasonal_order=(0, 0, 1, 12); AIC=9448.027, BIC=9466.961, Fit time=1.317 seconds\n",
      "Fit ARIMA: order=(1, 0, 0) seasonal_order=(2, 0, 1, 12); AIC=8933.253, BIC=8961.654, Fit time=10.423 seconds\n",
      "Fit ARIMA: order=(1, 0, 0) seasonal_order=(1, 0, 2, 12); AIC=8927.116, BIC=8955.516, Fit time=9.605 seconds\n",
      "Fit ARIMA: order=(1, 0, 0) seasonal_order=(0, 0, 0, 12); AIC=9637.891, BIC=9652.091, Fit time=0.243 seconds\n",
      "Fit ARIMA: order=(1, 0, 0) seasonal_order=(2, 0, 2, 12); AIC=nan, BIC=nan, Fit time=nan seconds\n",
      "Fit ARIMA: order=(2, 0, 0) seasonal_order=(1, 0, 1, 12); AIC=8906.921, BIC=8935.322, Fit time=4.547 seconds\n",
      "Total fit time: 60.190 seconds\n"
     ]
    },
    {
     "data": {
      "text/html": [
       "<table class=\"simpletable\">\n",
       "<caption>Statespace Model Results</caption>\n",
       "<tr>\n",
       "  <th>Dep. Variable:</th>                  <td>y</td>               <th>  No. Observations:  </th>    <td>840</td>   \n",
       "</tr>\n",
       "<tr>\n",
       "  <th>Model:</th>           <td>SARIMAX(1, 0, 0)x(1, 0, 1, 12)</td> <th>  Log Likelihood     </th> <td>-4447.590</td>\n",
       "</tr>\n",
       "<tr>\n",
       "  <th>Date:</th>                   <td>Sat, 25 Apr 2020</td>        <th>  AIC                </th> <td>8905.180</td> \n",
       "</tr>\n",
       "<tr>\n",
       "  <th>Time:</th>                       <td>03:18:38</td>            <th>  BIC                </th> <td>8928.847</td> \n",
       "</tr>\n",
       "<tr>\n",
       "  <th>Sample:</th>                         <td>0</td>               <th>  HQIC               </th> <td>8914.251</td> \n",
       "</tr>\n",
       "<tr>\n",
       "  <th></th>                             <td> - 840</td>             <th>                     </th>     <td> </td>    \n",
       "</tr>\n",
       "<tr>\n",
       "  <th>Covariance Type:</th>               <td>opg</td>              <th>                     </th>     <td> </td>    \n",
       "</tr>\n",
       "</table>\n",
       "<table class=\"simpletable\">\n",
       "<tr>\n",
       "      <td></td>         <th>coef</th>     <th>std err</th>      <th>z</th>      <th>P>|z|</th>  <th>[0.025</th>    <th>0.975]</th>  \n",
       "</tr>\n",
       "<tr>\n",
       "  <th>intercept</th> <td>    0.0186</td> <td>    0.027</td> <td>    0.692</td> <td> 0.489</td> <td>   -0.034</td> <td>    0.071</td>\n",
       "</tr>\n",
       "<tr>\n",
       "  <th>ar.L1</th>     <td>    0.0558</td> <td>    0.019</td> <td>    2.870</td> <td> 0.004</td> <td>    0.018</td> <td>    0.094</td>\n",
       "</tr>\n",
       "<tr>\n",
       "  <th>ar.S.L12</th>  <td>    0.9996</td> <td>    0.000</td> <td> 3068.369</td> <td> 0.000</td> <td>    0.999</td> <td>    1.000</td>\n",
       "</tr>\n",
       "<tr>\n",
       "  <th>ma.S.L12</th>  <td>   -0.9603</td> <td>    0.009</td> <td> -105.358</td> <td> 0.000</td> <td>   -0.978</td> <td>   -0.942</td>\n",
       "</tr>\n",
       "<tr>\n",
       "  <th>sigma2</th>    <td> 2227.9284</td> <td>   50.111</td> <td>   44.460</td> <td> 0.000</td> <td> 2129.713</td> <td> 2326.144</td>\n",
       "</tr>\n",
       "</table>\n",
       "<table class=\"simpletable\">\n",
       "<tr>\n",
       "  <th>Ljung-Box (Q):</th>          <td>30.02</td> <th>  Jarque-Bera (JB):  </th> <td>3816.30</td>\n",
       "</tr>\n",
       "<tr>\n",
       "  <th>Prob(Q):</th>                <td>0.87</td>  <th>  Prob(JB):          </th>  <td>0.00</td>  \n",
       "</tr>\n",
       "<tr>\n",
       "  <th>Heteroskedasticity (H):</th> <td>0.77</td>  <th>  Skew:              </th>  <td>1.92</td>  \n",
       "</tr>\n",
       "<tr>\n",
       "  <th>Prob(H) (two-sided):</th>    <td>0.03</td>  <th>  Kurtosis:          </th>  <td>12.71</td> \n",
       "</tr>\n",
       "</table><br/><br/>Warnings:<br/>[1] Covariance matrix calculated using the outer product of gradients (complex-step)."
      ],
      "text/plain": [
       "<class 'statsmodels.iolib.summary.Summary'>\n",
       "\"\"\"\n",
       "                                 Statespace Model Results                                 \n",
       "==========================================================================================\n",
       "Dep. Variable:                                  y   No. Observations:                  840\n",
       "Model:             SARIMAX(1, 0, 0)x(1, 0, 1, 12)   Log Likelihood               -4447.590\n",
       "Date:                            Sat, 25 Apr 2020   AIC                           8905.180\n",
       "Time:                                    03:18:38   BIC                           8928.847\n",
       "Sample:                                         0   HQIC                          8914.251\n",
       "                                            - 840                                         \n",
       "Covariance Type:                              opg                                         \n",
       "==============================================================================\n",
       "                 coef    std err          z      P>|z|      [0.025      0.975]\n",
       "------------------------------------------------------------------------------\n",
       "intercept      0.0186      0.027      0.692      0.489      -0.034       0.071\n",
       "ar.L1          0.0558      0.019      2.870      0.004       0.018       0.094\n",
       "ar.S.L12       0.9996      0.000   3068.369      0.000       0.999       1.000\n",
       "ma.S.L12      -0.9603      0.009   -105.358      0.000      -0.978      -0.942\n",
       "sigma2      2227.9284     50.111     44.460      0.000    2129.713    2326.144\n",
       "===================================================================================\n",
       "Ljung-Box (Q):                       30.02   Jarque-Bera (JB):              3816.30\n",
       "Prob(Q):                              0.87   Prob(JB):                         0.00\n",
       "Heteroskedasticity (H):               0.77   Skew:                             1.92\n",
       "Prob(H) (two-sided):                  0.03   Kurtosis:                        12.71\n",
       "===================================================================================\n",
       "\n",
       "Warnings:\n",
       "[1] Covariance matrix calculated using the outer product of gradients (complex-step).\n",
       "\"\"\""
      ]
     },
     "execution_count": 35,
     "metadata": {},
     "output_type": "execute_result"
    }
   ],
   "source": [
    "stepwise_fit = auto_arima(jaipur_data['Rainfall'], start_p=0, start_q=0,\n",
    "                          max_p=6, max_q=3, m=12,\n",
    "                          seasonal=True,\n",
    "                          d=None, trace=True,\n",
    "                          error_action='ignore',   # we don't want to know if an order does not work\n",
    "                          suppress_warnings=True,  # we don't want convergence warnings\n",
    "                          stepwise=True)           # set to stepwise\n",
    "\n",
    "stepwise_fit.summary()"
   ]
  },
  {
   "cell_type": "markdown",
   "metadata": {},
   "source": [
    "#### Therefore we will use Seasonal-ARIMA model = SARIMAX(0, 0, 0)x(1, 0, 1, 12) for Ajmer Rainfall data\n",
    "#### and Seasonal-ARIMA model = SARIMAX(1, 0, 0)x(1, 0, 1, 12) for Jaipur Rainfall data"
   ]
  },
  {
   "cell_type": "markdown",
   "metadata": {},
   "source": [
    "### AJMER"
   ]
  },
  {
   "cell_type": "code",
   "execution_count": 42,
   "metadata": {},
   "outputs": [
    {
     "data": {
      "text/html": [
       "<table class=\"simpletable\">\n",
       "<caption>Statespace Model Results</caption>\n",
       "<tr>\n",
       "  <th>Dep. Variable:</th>         <td>Rainfall</td>       <th>  No. Observations:  </th>    <td>816</td>   \n",
       "</tr>\n",
       "<tr>\n",
       "  <th>Model:</th>           <td>SARIMAX(1, 0, 1, 12)</td> <th>  Log Likelihood     </th> <td>-4337.560</td>\n",
       "</tr>\n",
       "<tr>\n",
       "  <th>Date:</th>              <td>Sat, 25 Apr 2020</td>   <th>  AIC                </th> <td>8681.121</td> \n",
       "</tr>\n",
       "<tr>\n",
       "  <th>Time:</th>                  <td>03:28:42</td>       <th>  BIC                </th> <td>8695.234</td> \n",
       "</tr>\n",
       "<tr>\n",
       "  <th>Sample:</th>               <td>01-01-1901</td>      <th>  HQIC               </th> <td>8686.538</td> \n",
       "</tr>\n",
       "<tr>\n",
       "  <th></th>                     <td>- 12-01-1968</td>     <th>                     </th>     <td> </td>    \n",
       "</tr>\n",
       "<tr>\n",
       "  <th>Covariance Type:</th>          <td>opg</td>         <th>                     </th>     <td> </td>    \n",
       "</tr>\n",
       "</table>\n",
       "<table class=\"simpletable\">\n",
       "<tr>\n",
       "      <td></td>        <th>coef</th>     <th>std err</th>      <th>z</th>      <th>P>|z|</th>  <th>[0.025</th>    <th>0.975]</th>  \n",
       "</tr>\n",
       "<tr>\n",
       "  <th>ar.S.L12</th> <td>    0.9998</td> <td>    0.000</td> <td> 6051.815</td> <td> 0.000</td> <td>    0.999</td> <td>    1.000</td>\n",
       "</tr>\n",
       "<tr>\n",
       "  <th>ma.S.L12</th> <td>   -0.9701</td> <td>    0.011</td> <td>  -88.841</td> <td> 0.000</td> <td>   -0.991</td> <td>   -0.949</td>\n",
       "</tr>\n",
       "<tr>\n",
       "  <th>sigma2</th>   <td> 2302.5025</td> <td>   53.610</td> <td>   42.949</td> <td> 0.000</td> <td> 2197.428</td> <td> 2407.577</td>\n",
       "</tr>\n",
       "</table>\n",
       "<table class=\"simpletable\">\n",
       "<tr>\n",
       "  <th>Ljung-Box (Q):</th>          <td>37.76</td> <th>  Jarque-Bera (JB):  </th> <td>3269.52</td>\n",
       "</tr>\n",
       "<tr>\n",
       "  <th>Prob(Q):</th>                <td>0.57</td>  <th>  Prob(JB):          </th>  <td>0.00</td>  \n",
       "</tr>\n",
       "<tr>\n",
       "  <th>Heteroskedasticity (H):</th> <td>0.68</td>  <th>  Skew:              </th>  <td>2.06</td>  \n",
       "</tr>\n",
       "<tr>\n",
       "  <th>Prob(H) (two-sided):</th>    <td>0.00</td>  <th>  Kurtosis:          </th>  <td>11.90</td> \n",
       "</tr>\n",
       "</table><br/><br/>Warnings:<br/>[1] Covariance matrix calculated using the outer product of gradients (complex-step)."
      ],
      "text/plain": [
       "<class 'statsmodels.iolib.summary.Summary'>\n",
       "\"\"\"\n",
       "                            Statespace Model Results                            \n",
       "================================================================================\n",
       "Dep. Variable:                 Rainfall   No. Observations:                  816\n",
       "Model:             SARIMAX(1, 0, 1, 12)   Log Likelihood               -4337.560\n",
       "Date:                  Sat, 25 Apr 2020   AIC                           8681.121\n",
       "Time:                          03:28:42   BIC                           8695.234\n",
       "Sample:                      01-01-1901   HQIC                          8686.538\n",
       "                           - 12-01-1968                                         \n",
       "Covariance Type:                    opg                                         \n",
       "==============================================================================\n",
       "                 coef    std err          z      P>|z|      [0.025      0.975]\n",
       "------------------------------------------------------------------------------\n",
       "ar.S.L12       0.9998      0.000   6051.815      0.000       0.999       1.000\n",
       "ma.S.L12      -0.9701      0.011    -88.841      0.000      -0.991      -0.949\n",
       "sigma2      2302.5025     53.610     42.949      0.000    2197.428    2407.577\n",
       "===================================================================================\n",
       "Ljung-Box (Q):                       37.76   Jarque-Bera (JB):              3269.52\n",
       "Prob(Q):                              0.57   Prob(JB):                         0.00\n",
       "Heteroskedasticity (H):               0.68   Skew:                             2.06\n",
       "Prob(H) (two-sided):                  0.00   Kurtosis:                        11.90\n",
       "===================================================================================\n",
       "\n",
       "Warnings:\n",
       "[1] Covariance matrix calculated using the outer product of gradients (complex-step).\n",
       "\"\"\""
      ]
     },
     "execution_count": 42,
     "metadata": {},
     "output_type": "execute_result"
    }
   ],
   "source": [
    "#Fitting our model on Train set\n",
    "\n",
    "model = SARIMAX(train_a['Rainfall'],order=(0,0,0),seasonal_order=(1,0,1,12))\n",
    "results = model.fit()\n",
    "results.summary()"
   ]
  },
  {
   "cell_type": "code",
   "execution_count": 43,
   "metadata": {},
   "outputs": [],
   "source": [
    "# Obtain predicted values\n",
    "\n",
    "start=len(train_a)\n",
    "end=len(train_a)+len(test_a)-1\n",
    "predicted_a = results.predict(start=start, end=end, dynamic=False, typ='levels').rename('SARIMA(0,0,0)(1,0,1,12) Predictions')"
   ]
  },
  {
   "cell_type": "code",
   "execution_count": 44,
   "metadata": {},
   "outputs": [
    {
     "name": "stdout",
     "output_type": "stream",
     "text": [
      "predicted=3.0922658528539775, expected=3.647\n",
      "predicted=2.578312386497165, expected=0.872\n",
      "predicted=6.145785271897785, expected=0.312\n",
      "predicted=3.079611411595638, expected=0.0\n",
      "predicted=7.387021302687662, expected=4.085\n",
      "predicted=45.664729734872864, expected=17.160999999999998\n",
      "predicted=189.21169713776683, expected=144.558\n",
      "predicted=160.77133685586267, expected=109.52600000000001\n",
      "predicted=96.44024270998861, expected=86.345\n",
      "predicted=8.544254233321286, expected=0.0\n",
      "predicted=9.548422250885578, expected=5.077\n",
      "predicted=2.460392470931533, expected=0.0\n",
      "predicted=3.0922658528539775, expected=3.647\n",
      "predicted=2.577798570669707, expected=3.23\n",
      "predicted=6.14456051660382, expected=3.967\n",
      "predicted=3.078997695005676, expected=4.309\n",
      "predicted=7.385549189190878, expected=15.802\n",
      "predicted=45.65562949511246, expected=107.89399999999999\n",
      "predicted=189.17399031634415, expected=96.931\n",
      "predicted=160.73929773682082, expected=339.50800000000004\n",
      "predicted=96.4210237342866, expected=152.583\n",
      "predicted=8.542551502076657, expected=0.019\n",
      "predicted=9.546519405246915, expected=0.039\n",
      "predicted=2.459902154630086, expected=0.0\n"
     ]
    }
   ],
   "source": [
    "# Compare predictions to expected values\n",
    "for i in range(len(predicted_a)):\n",
    "    print(f\"predicted={predicted_a[i]}, expected={test_a['Rainfall'][i]}\")"
   ]
  },
  {
   "cell_type": "code",
   "execution_count": 45,
   "metadata": {},
   "outputs": [
    {
     "data": {
      "image/png": "[encoded data removed]",
      "text/plain": [
       "<Figure size 864x432 with 1 Axes>"
      ]
     },
     "metadata": {
      "needs_background": "light"
     },
     "output_type": "display_data"
    }
   ],
   "source": [
    "# Plot predictions against known values\n",
    "title = 'Monthly Rainfall_ajmer'\n",
    "ylabel='rainfall(in mm)'\n",
    "xlabel=''\n",
    "\n",
    "ax = test_a['Rainfall'].plot(legend=True,figsize=(12,6),title=title)\n",
    "predicted_a.plot(legend=True)\n",
    "ax.autoscale(axis='x',tight=True)\n",
    "ax.set(xlabel=xlabel, ylabel=ylabel);"
   ]
  },
  {
   "cell_type": "markdown",
   "metadata": {},
   "source": [
    "#### Evaluation"
   ]
  },
  {
   "cell_type": "code",
   "execution_count": 47,
   "metadata": {
    "scrolled": true
   },
   "outputs": [
    {
     "name": "stdout",
     "output_type": "stream",
     "text": [
      "RMSE Error for ARIMA on AJMER rainfall: 47.1881311723501\n"
     ]
    }
   ],
   "source": [
    "error = rmse(test_a['Rainfall'], predicted_a)\n",
    "print(f'RMSE Error for ARIMA on AJMER rainfall: {error}')"
   ]
  },
  {
   "cell_type": "markdown",
   "metadata": {},
   "source": [
    "### JAIPUR"
   ]
  },
  {
   "cell_type": "code",
   "execution_count": 49,
   "metadata": {},
   "outputs": [
    {
     "data": {
      "text/html": [
       "<table class=\"simpletable\">\n",
       "<caption>Statespace Model Results</caption>\n",
       "<tr>\n",
       "  <th>Dep. Variable:</th>              <td>Rainfall</td>            <th>  No. Observations:  </th>    <td>816</td>   \n",
       "</tr>\n",
       "<tr>\n",
       "  <th>Model:</th>           <td>SARIMAX(1, 0, 0)x(1, 0, 1, 12)</td> <th>  Log Likelihood     </th> <td>-4323.523</td>\n",
       "</tr>\n",
       "<tr>\n",
       "  <th>Date:</th>                   <td>Sat, 25 Apr 2020</td>        <th>  AIC                </th> <td>8655.047</td> \n",
       "</tr>\n",
       "<tr>\n",
       "  <th>Time:</th>                       <td>03:40:29</td>            <th>  BIC                </th> <td>8673.864</td> \n",
       "</tr>\n",
       "<tr>\n",
       "  <th>Sample:</th>                    <td>01-01-1901</td>           <th>  HQIC               </th> <td>8662.269</td> \n",
       "</tr>\n",
       "<tr>\n",
       "  <th></th>                          <td>- 12-01-1968</td>          <th>                     </th>     <td> </td>    \n",
       "</tr>\n",
       "<tr>\n",
       "  <th>Covariance Type:</th>               <td>opg</td>              <th>                     </th>     <td> </td>    \n",
       "</tr>\n",
       "</table>\n",
       "<table class=\"simpletable\">\n",
       "<tr>\n",
       "      <td></td>        <th>coef</th>     <th>std err</th>      <th>z</th>      <th>P>|z|</th>  <th>[0.025</th>    <th>0.975]</th>  \n",
       "</tr>\n",
       "<tr>\n",
       "  <th>ar.L1</th>    <td>    0.0640</td> <td>    0.020</td> <td>    3.234</td> <td> 0.001</td> <td>    0.025</td> <td>    0.103</td>\n",
       "</tr>\n",
       "<tr>\n",
       "  <th>ar.S.L12</th> <td>    0.9997</td> <td>    0.000</td> <td> 5776.755</td> <td> 0.000</td> <td>    0.999</td> <td>    1.000</td>\n",
       "</tr>\n",
       "<tr>\n",
       "  <th>ma.S.L12</th> <td>   -0.9595</td> <td>    0.009</td> <td> -105.037</td> <td> 0.000</td> <td>   -0.977</td> <td>   -0.942</td>\n",
       "</tr>\n",
       "<tr>\n",
       "  <th>sigma2</th>   <td> 2220.6290</td> <td>   49.334</td> <td>   45.012</td> <td> 0.000</td> <td> 2123.936</td> <td> 2317.322</td>\n",
       "</tr>\n",
       "</table>\n",
       "<table class=\"simpletable\">\n",
       "<tr>\n",
       "  <th>Ljung-Box (Q):</th>          <td>29.83</td> <th>  Jarque-Bera (JB):  </th> <td>3670.31</td>\n",
       "</tr>\n",
       "<tr>\n",
       "  <th>Prob(Q):</th>                <td>0.88</td>  <th>  Prob(JB):          </th>  <td>0.00</td>  \n",
       "</tr>\n",
       "<tr>\n",
       "  <th>Heteroskedasticity (H):</th> <td>0.73</td>  <th>  Skew:              </th>  <td>1.88</td>  \n",
       "</tr>\n",
       "<tr>\n",
       "  <th>Prob(H) (two-sided):</th>    <td>0.01</td>  <th>  Kurtosis:          </th>  <td>12.69</td> \n",
       "</tr>\n",
       "</table><br/><br/>Warnings:<br/>[1] Covariance matrix calculated using the outer product of gradients (complex-step)."
      ],
      "text/plain": [
       "<class 'statsmodels.iolib.summary.Summary'>\n",
       "\"\"\"\n",
       "                                 Statespace Model Results                                 \n",
       "==========================================================================================\n",
       "Dep. Variable:                           Rainfall   No. Observations:                  816\n",
       "Model:             SARIMAX(1, 0, 0)x(1, 0, 1, 12)   Log Likelihood               -4323.523\n",
       "Date:                            Sat, 25 Apr 2020   AIC                           8655.047\n",
       "Time:                                    03:40:29   BIC                           8673.864\n",
       "Sample:                                01-01-1901   HQIC                          8662.269\n",
       "                                     - 12-01-1968                                         \n",
       "Covariance Type:                              opg                                         \n",
       "==============================================================================\n",
       "                 coef    std err          z      P>|z|      [0.025      0.975]\n",
       "------------------------------------------------------------------------------\n",
       "ar.L1          0.0640      0.020      3.234      0.001       0.025       0.103\n",
       "ar.S.L12       0.9997      0.000   5776.755      0.000       0.999       1.000\n",
       "ma.S.L12      -0.9595      0.009   -105.037      0.000      -0.977      -0.942\n",
       "sigma2      2220.6290     49.334     45.012      0.000    2123.936    2317.322\n",
       "===================================================================================\n",
       "Ljung-Box (Q):                       29.83   Jarque-Bera (JB):              3670.31\n",
       "Prob(Q):                              0.88   Prob(JB):                         0.00\n",
       "Heteroskedasticity (H):               0.73   Skew:                             1.88\n",
       "Prob(H) (two-sided):                  0.01   Kurtosis:                        12.69\n",
       "===================================================================================\n",
       "\n",
       "Warnings:\n",
       "[1] Covariance matrix calculated using the outer product of gradients (complex-step).\n",
       "\"\"\""
      ]
     },
     "execution_count": 49,
     "metadata": {},
     "output_type": "execute_result"
    }
   ],
   "source": [
    "#Fitting our model on Train set\n",
    "\n",
    "model = SARIMAX(train_j['Rainfall'],order=(1,0,0),seasonal_order=(1,0,1,12))\n",
    "results = model.fit()\n",
    "results.summary()"
   ]
  },
  {
   "cell_type": "code",
   "execution_count": 50,
   "metadata": {},
   "outputs": [],
   "source": [
    "# Obtain predicted values\n",
    "\n",
    "start=len(train_j)\n",
    "end=len(train_j)+len(test_j)-1\n",
    "predicted_j = results.predict(start=start, end=end, dynamic=False, typ='levels').rename('SARIMA(1,0,0)(1,0,1,12) Predictions')"
   ]
  },
  {
   "cell_type": "code",
   "execution_count": 51,
   "metadata": {},
   "outputs": [
    {
     "name": "stdout",
     "output_type": "stream",
     "text": [
      "predicted=5.046457770226148, expected=7.151\n",
      "predicted=4.870746981667236, expected=3.423\n",
      "predicted=5.452986841871363, expected=1.838\n",
      "predicted=3.330029236600022, expected=0.095\n",
      "predicted=9.298613860362689, expected=12.314\n",
      "predicted=44.72710428095086, expected=15.245\n",
      "predicted=229.3397619919928, expected=197.733\n",
      "predicted=176.04852636753938, expected=118.314\n",
      "predicted=92.40710837263177, expected=77.801\n",
      "predicted=8.817009122270044, expected=0.005\n",
      "predicted=6.274365023059715, expected=2.188\n",
      "predicted=3.84781989694318, expected=0.0\n",
      "predicted=5.046457770226148, expected=7.151\n",
      "predicted=4.8851516990106045, expected=12.081\n",
      "predicted=5.452494644974293, expected=8.905\n",
      "predicted=3.3291780806254883, expected=1.194\n",
      "predicted=9.296061374910986, expected=24.183000000000003\n",
      "predicted=44.71480705733548, expected=101.271\n",
      "predicted=229.27670622128977, expected=110.573\n",
      "predicted=176.00012273209626, expected=332.986\n",
      "predicted=92.38170151370585, expected=134.737\n",
      "predicted=8.814584930981477, expected=0.325\n",
      "predicted=6.27263991867971, expected=0.0\n",
      "predicted=3.846761958660299, expected=0.0\n"
     ]
    }
   ],
   "source": [
    "# Compare predictions to expected values\n",
    "for i in range(len(predicted_j)):\n",
    "    print(f\"predicted={predicted_j[i]}, expected={test_j['Rainfall'][i]}\")"
   ]
  },
  {
   "cell_type": "code",
   "execution_count": 52,
   "metadata": {},
   "outputs": [
    {
     "data": {
      "image/png": "[encoded data removed]",
      "text/plain": [
       "<Figure size 864x432 with 1 Axes>"
      ]
     },
     "metadata": {
      "needs_background": "light"
     },
     "output_type": "display_data"
    }
   ],
   "source": [
    "# Plot predictions against known values\n",
    "title = 'Monthly Rainfall_jaipur'\n",
    "ylabel='rainfall(in mm)'\n",
    "xlabel=''\n",
    "\n",
    "ax = test_j['Rainfall'].plot(legend=True,figsize=(12,6),title=title)\n",
    "predicted_j.plot(legend=True)\n",
    "ax.autoscale(axis='x',tight=True)\n",
    "ax.set(xlabel=xlabel, ylabel=ylabel);"
   ]
  },
  {
   "cell_type": "markdown",
   "metadata": {},
   "source": [
    "#### Evaluation"
   ]
  },
  {
   "cell_type": "code",
   "execution_count": 53,
   "metadata": {},
   "outputs": [
    {
     "name": "stdout",
     "output_type": "stream",
     "text": [
      "RMSE Error for ARIMA on AJMER rainfall: 45.51292055359868\n"
     ]
    }
   ],
   "source": [
    "error = rmse(test_j['Rainfall'], predicted_j)\n",
    "print(f'RMSE Error for ARIMA on Jaipur rainfall: {error}')"
   ]
  },
  {
   "cell_type": "markdown",
   "metadata": {},
   "source": [
    "## 2. Deep Learning (LSTM)"
   ]
  },
  {
   "cell_type": "markdown",
   "metadata": {},
   "source": [
    "### AJMER"
   ]
  },
  {
   "cell_type": "code",
   "execution_count": 61,
   "metadata": {},
   "outputs": [],
   "source": [
    "#Scaled the data\n",
    "\n",
    "scaler = MinMaxScaler()\n",
    "scaler.fit(train_a)\n",
    "scaled_train = scaler.transform(train_a)\n",
    "scaled_test = scaler.transform(test_a)"
   ]
  },
  {
   "cell_type": "code",
   "execution_count": 66,
   "metadata": {},
   "outputs": [],
   "source": [
    "# define generator\n",
    "n_input = 24\n",
    "n_features = 1\n",
    "generator = TimeseriesGenerator(scaled_train, scaled_train, length=n_input, batch_size=1)"
   ]
  },
  {
   "cell_type": "code",
   "execution_count": 70,
   "metadata": {},
   "outputs": [],
   "source": [
    "# define model\n",
    "model = Sequential()\n",
    "model.add(LSTM(100, activation='relu', input_shape=(n_input, n_features)))\n",
    "model.add(Dense(1))\n",
    "model.compile(optimizer='adam', loss='mse')"
   ]
  },
  {
   "cell_type": "code",
   "execution_count": 71,
   "metadata": {},
   "outputs": [
    {
     "name": "stdout",
     "output_type": "stream",
     "text": [
      "Model: \"sequential_3\"\n",
      "_________________________________________________________________\n",
      "Layer (type)                 Output Shape              Param #   \n",
      "=================================================================\n",
      "lstm_3 (LSTM)                (None, 100)               40800     \n",
      "_________________________________________________________________\n",
      "dense_3 (Dense)              (None, 1)                 101       \n",
      "=================================================================\n",
      "Total params: 40,901\n",
      "Trainable params: 40,901\n",
      "Non-trainable params: 0\n",
      "_________________________________________________________________\n"
     ]
    }
   ],
   "source": [
    "model.summary()"
   ]
  },
  {
   "cell_type": "code",
   "execution_count": 72,
   "metadata": {
    "scrolled": true
   },
   "outputs": [
    {
     "name": "stdout",
     "output_type": "stream",
     "text": [
      "WARNING:tensorflow:From C:\\Users\\Khush\\Anaconda3\\envs\\tsa_course\\lib\\site-packages\\keras\\backend\\tensorflow_backend.py:422: The name tf.global_variables is deprecated. Please use tf.compat.v1.global_variables instead.\n",
      "\n",
      "Epoch 1/50\n",
      "792/792 [==============================] - 22s 27ms/step - loss: 0.0262\n",
      "Epoch 2/50\n",
      "792/792 [==============================] - 22s 28ms/step - loss: 0.0194\n",
      "Epoch 3/50\n",
      "792/792 [==============================] - 22s 28ms/step - loss: 0.0165\n",
      "Epoch 4/50\n",
      "792/792 [==============================] - 23s 28ms/step - loss: 0.0164\n",
      "Epoch 5/50\n",
      "792/792 [==============================] - 22s 28ms/step - loss: 0.0155\n",
      "Epoch 6/50\n",
      "792/792 [==============================] - 22s 28ms/step - loss: 0.0146\n",
      "Epoch 7/50\n",
      "792/792 [==============================] - 22s 28ms/step - loss: 0.0145\n",
      "Epoch 8/50\n",
      "792/792 [==============================] - 22s 28ms/step - loss: 0.0147\n",
      "Epoch 9/50\n",
      "792/792 [==============================] - 21s 27ms/step - loss: 0.0139\n",
      "Epoch 10/50\n",
      "792/792 [==============================] - 22s 28ms/step - loss: 0.0150\n",
      "Epoch 11/50\n",
      "792/792 [==============================] - 22s 28ms/step - loss: 0.0138\n",
      "Epoch 12/50\n",
      "792/792 [==============================] - 22s 28ms/step - loss: 0.0140\n",
      "Epoch 13/50\n",
      "792/792 [==============================] - 22s 28ms/step - loss: 0.0140\n",
      "Epoch 14/50\n",
      "792/792 [==============================] - 22s 28ms/step - loss: 0.0133 0s - lo\n",
      "Epoch 15/50\n",
      "792/792 [==============================] - 22s 28ms/step - loss: 0.0135\n",
      "Epoch 16/50\n",
      "792/792 [==============================] - 22s 28ms/step - loss: 0.0133\n",
      "Epoch 17/50\n",
      "792/792 [==============================] - 21s 27ms/step - loss: 0.0136\n",
      "Epoch 18/50\n",
      "792/792 [==============================] - 23s 29ms/step - loss: 0.0131\n",
      "Epoch 19/50\n",
      "792/792 [==============================] - 22s 28ms/step - loss: 0.0133\n",
      "Epoch 20/50\n",
      "792/792 [==============================] - 22s 28ms/step - loss: 0.0132\n",
      "Epoch 21/50\n",
      "792/792 [==============================] - 22s 27ms/step - loss: 0.0131 0s - loss: 0.01\n",
      "Epoch 22/50\n",
      "792/792 [==============================] - 22s 28ms/step - loss: 0.0131\n",
      "Epoch 23/50\n",
      "792/792 [==============================] - 22s 28ms/step - loss: 0.0126\n",
      "Epoch 24/50\n",
      "792/792 [==============================] - 21s 27ms/step - loss: 0.0129\n",
      "Epoch 25/50\n",
      "792/792 [==============================] - 21s 27ms/step - loss: 0.0129\n",
      "Epoch 26/50\n",
      "792/792 [==============================] - 22s 28ms/step - loss: 0.0128\n",
      "Epoch 27/50\n",
      "792/792 [==============================] - 21s 26ms/step - loss: 0.0130\n",
      "Epoch 28/50\n",
      "792/792 [==============================] - 22s 27ms/step - loss: 0.0127\n",
      "Epoch 29/50\n",
      "792/792 [==============================] - 22s 27ms/step - loss: 0.0121 0s - loss: 0\n",
      "Epoch 30/50\n",
      "792/792 [==============================] - 22s 28ms/step - loss: 0.0129\n",
      "Epoch 31/50\n",
      "792/792 [==============================] - 22s 28ms/step - loss: 0.0125\n",
      "Epoch 32/50\n",
      "792/792 [==============================] - 22s 28ms/step - loss: 0.0131\n",
      "Epoch 33/50\n",
      "792/792 [==============================] - 22s 28ms/step - loss: 0.0124\n",
      "Epoch 34/50\n",
      "792/792 [==============================] - 22s 28ms/step - loss: 0.0124\n",
      "Epoch 35/50\n",
      "792/792 [==============================] - 21s 27ms/step - loss: 0.0129\n",
      "Epoch 36/50\n",
      "792/792 [==============================] - 22s 28ms/step - loss: 0.0121\n",
      "Epoch 37/50\n",
      "792/792 [==============================] - 22s 27ms/step - loss: 0.0127\n",
      "Epoch 38/50\n",
      "792/792 [==============================] - 21s 27ms/step - loss: 0.0122\n",
      "Epoch 39/50\n",
      "792/792 [==============================] - 22s 27ms/step - loss: 0.0129\n",
      "Epoch 40/50\n",
      "792/792 [==============================] - 21s 27ms/step - loss: 0.0122\n",
      "Epoch 41/50\n",
      "792/792 [==============================] - 22s 28ms/step - loss: 0.0122\n",
      "Epoch 42/50\n",
      "792/792 [==============================] - 21s 26ms/step - loss: 0.0122\n",
      "Epoch 43/50\n",
      "792/792 [==============================] - 21s 27ms/step - loss: 0.0123\n",
      "Epoch 44/50\n",
      "792/792 [==============================] - 21s 26ms/step - loss: 0.0122 0s - loss: \n",
      "Epoch 45/50\n",
      "792/792 [==============================] - 21s 26ms/step - loss: 0.0121\n",
      "Epoch 46/50\n",
      "792/792 [==============================] - 22s 27ms/step - loss: 0.0118\n",
      "Epoch 47/50\n",
      "792/792 [==============================] - 22s 28ms/step - loss: 0.0123\n",
      "Epoch 48/50\n",
      "792/792 [==============================] - 21s 27ms/step - loss: 0.0121\n",
      "Epoch 49/50\n",
      "792/792 [==============================] - 22s 28ms/step - loss: 0.0120\n",
      "Epoch 50/50\n",
      "792/792 [==============================] - 21s 27ms/step - loss: 0.0111\n"
     ]
    },
    {
     "data": {
      "text/plain": [
       "<keras.callbacks.callbacks.History at 0x26e05dffe48>"
      ]
     },
     "execution_count": 72,
     "metadata": {},
     "output_type": "execute_result"
    }
   ],
   "source": [
    "# fit model\n",
    "model.fit_generator(generator,epochs=50)"
   ]
  },
  {
   "cell_type": "code",
   "execution_count": 75,
   "metadata": {
    "scrolled": true
   },
   "outputs": [
    {
     "data": {
      "text/plain": [
       "dict_keys(['loss'])"
      ]
     },
     "execution_count": 75,
     "metadata": {},
     "output_type": "execute_result"
    }
   ],
   "source": [
    "model.history.history.keys()"
   ]
  },
  {
   "cell_type": "code",
   "execution_count": 76,
   "metadata": {
    "scrolled": true
   },
   "outputs": [
    {
     "data": {
      "text/plain": [
       "[<matplotlib.lines.Line2D at 0x26e50a31198>]"
      ]
     },
     "execution_count": 76,
     "metadata": {},
     "output_type": "execute_result"
    },
    {
     "data": {
      "image/png": "[encoded data removed]",
      "text/plain": [
       "<Figure size 432x288 with 1 Axes>"
      ]
     },
     "metadata": {
      "needs_background": "light"
     },
     "output_type": "display_data"
    }
   ],
   "source": [
    "loss_per_epoch = model.history.history['loss']\n",
    "plt.plot(range(len(loss_per_epoch)),loss_per_epoch)"
   ]
  },
  {
   "cell_type": "code",
   "execution_count": 78,
   "metadata": {},
   "outputs": [],
   "source": [
    "test_predictions = []\n",
    "\n",
    "first_eval_batch = scaled_train[-n_input:]\n",
    "current_batch = first_eval_batch.reshape((1, n_input, n_features))\n",
    "\n",
    "for i in range(len(test_a)):\n",
    "    \n",
    "    # get prediction 1 time stamp ahead ([0] is for grabbing just the number instead of [array])\n",
    "    current_pred = model.predict(current_batch)[0]\n",
    "    \n",
    "    # store prediction\n",
    "    test_predictions.append(current_pred) \n",
    "    \n",
    "    # update batch to now include prediction and drop first value\n",
    "    current_batch = np.append(current_batch[:,1:,:],[[current_pred]],axis=1)"
   ]
  },
  {
   "cell_type": "code",
   "execution_count": 79,
   "metadata": {},
   "outputs": [
    {
     "data": {
      "text/plain": [
       "[array([0.00651362], dtype=float32),\n",
       " array([0.007817], dtype=float32),\n",
       " array([0.01132056], dtype=float32),\n",
       " array([0.01201443], dtype=float32),\n",
       " array([0.01598825], dtype=float32),\n",
       " array([0.05935223], dtype=float32),\n",
       " array([0.33002734], dtype=float32),\n",
       " array([0.41232616], dtype=float32),\n",
       " array([0.24302818], dtype=float32),\n",
       " array([0.03781498], dtype=float32),\n",
       " array([0.01048656], dtype=float32),\n",
       " array([0.00551908], dtype=float32),\n",
       " array([0.00531708], dtype=float32),\n",
       " array([0.00486092], dtype=float32),\n",
       " array([0.00504677], dtype=float32),\n",
       " array([0.01039793], dtype=float32),\n",
       " array([0.01067961], dtype=float32),\n",
       " array([0.03779715], dtype=float32),\n",
       " array([0.38908285], dtype=float32),\n",
       " array([0.39897668], dtype=float32),\n",
       " array([0.22730026], dtype=float32),\n",
       " array([0.02401236], dtype=float32),\n",
       " array([0.00510409], dtype=float32),\n",
       " array([0.00401607], dtype=float32)]"
      ]
     },
     "execution_count": 79,
     "metadata": {},
     "output_type": "execute_result"
    }
   ],
   "source": [
    "test_predictions"
   ]
  },
  {
   "cell_type": "code",
   "execution_count": 80,
   "metadata": {},
   "outputs": [],
   "source": [
    "true_predictions = scaler.inverse_transform(test_predictions)"
   ]
  },
  {
   "cell_type": "code",
   "execution_count": 81,
   "metadata": {},
   "outputs": [],
   "source": [
    "test = test_a\n",
    "test['Predictions'] = true_predictions"
   ]
  },
  {
   "cell_type": "code",
   "execution_count": 82,
   "metadata": {},
   "outputs": [
    {
     "data": {
      "text/html": [
       "<div>\n",
       "<style scoped>\n",
       "    .dataframe tbody tr th:only-of-type {\n",
       "        vertical-align: middle;\n",
       "    }\n",
       "\n",
       "    .dataframe tbody tr th {\n",
       "        vertical-align: top;\n",
       "    }\n",
       "\n",
       "    .dataframe thead th {\n",
       "        text-align: right;\n",
       "    }\n",
       "</style>\n",
       "<table border=\"1\" class=\"dataframe\">\n",
       "  <thead>\n",
       "    <tr style=\"text-align: right;\">\n",
       "      <th></th>\n",
       "      <th>Rainfall</th>\n",
       "      <th>Predictions</th>\n",
       "    </tr>\n",
       "    <tr>\n",
       "      <th>Datetime</th>\n",
       "      <th></th>\n",
       "      <th></th>\n",
       "    </tr>\n",
       "  </thead>\n",
       "  <tbody>\n",
       "    <tr>\n",
       "      <th>1969-01-01</th>\n",
       "      <td>6.052</td>\n",
       "      <td>2.955326</td>\n",
       "    </tr>\n",
       "    <tr>\n",
       "      <th>1969-02-01</th>\n",
       "      <td>0.872</td>\n",
       "      <td>3.546690</td>\n",
       "    </tr>\n",
       "    <tr>\n",
       "      <th>1969-03-01</th>\n",
       "      <td>0.312</td>\n",
       "      <td>5.136308</td>\n",
       "    </tr>\n",
       "    <tr>\n",
       "      <th>1969-04-01</th>\n",
       "      <td>0.000</td>\n",
       "      <td>5.451129</td>\n",
       "    </tr>\n",
       "    <tr>\n",
       "      <th>1969-05-01</th>\n",
       "      <td>4.085</td>\n",
       "      <td>7.254107</td>\n",
       "    </tr>\n",
       "    <tr>\n",
       "      <th>1969-06-01</th>\n",
       "      <td>17.161</td>\n",
       "      <td>26.928999</td>\n",
       "    </tr>\n",
       "    <tr>\n",
       "      <th>1969-07-01</th>\n",
       "      <td>144.558</td>\n",
       "      <td>149.738355</td>\n",
       "    </tr>\n",
       "    <tr>\n",
       "      <th>1969-08-01</th>\n",
       "      <td>109.526</td>\n",
       "      <td>187.078562</td>\n",
       "    </tr>\n",
       "    <tr>\n",
       "      <th>1969-09-01</th>\n",
       "      <td>86.345</td>\n",
       "      <td>110.265530</td>\n",
       "    </tr>\n",
       "    <tr>\n",
       "      <th>1969-10-01</th>\n",
       "      <td>0.000</td>\n",
       "      <td>17.157225</td>\n",
       "    </tr>\n",
       "    <tr>\n",
       "      <th>1969-11-01</th>\n",
       "      <td>5.077</td>\n",
       "      <td>4.757909</td>\n",
       "    </tr>\n",
       "    <tr>\n",
       "      <th>1969-12-01</th>\n",
       "      <td>0.000</td>\n",
       "      <td>2.504088</td>\n",
       "    </tr>\n",
       "    <tr>\n",
       "      <th>1970-01-01</th>\n",
       "      <td>3.647</td>\n",
       "      <td>2.412438</td>\n",
       "    </tr>\n",
       "    <tr>\n",
       "      <th>1970-02-01</th>\n",
       "      <td>3.230</td>\n",
       "      <td>2.205474</td>\n",
       "    </tr>\n",
       "    <tr>\n",
       "      <th>1970-03-01</th>\n",
       "      <td>3.967</td>\n",
       "      <td>2.289795</td>\n",
       "    </tr>\n",
       "    <tr>\n",
       "      <th>1970-04-01</th>\n",
       "      <td>4.309</td>\n",
       "      <td>4.717695</td>\n",
       "    </tr>\n",
       "    <tr>\n",
       "      <th>1970-05-01</th>\n",
       "      <td>15.802</td>\n",
       "      <td>4.845499</td>\n",
       "    </tr>\n",
       "    <tr>\n",
       "      <th>1970-06-01</th>\n",
       "      <td>107.894</td>\n",
       "      <td>17.149132</td>\n",
       "    </tr>\n",
       "    <tr>\n",
       "      <th>1970-07-01</th>\n",
       "      <td>96.931</td>\n",
       "      <td>176.532725</td>\n",
       "    </tr>\n",
       "    <tr>\n",
       "      <th>1970-08-01</th>\n",
       "      <td>339.508</td>\n",
       "      <td>181.021706</td>\n",
       "    </tr>\n",
       "    <tr>\n",
       "      <th>1970-09-01</th>\n",
       "      <td>152.583</td>\n",
       "      <td>103.129536</td>\n",
       "    </tr>\n",
       "    <tr>\n",
       "      <th>1970-10-01</th>\n",
       "      <td>0.019</td>\n",
       "      <td>10.894767</td>\n",
       "    </tr>\n",
       "    <tr>\n",
       "      <th>1970-11-01</th>\n",
       "      <td>0.039</td>\n",
       "      <td>2.315804</td>\n",
       "    </tr>\n",
       "    <tr>\n",
       "      <th>1970-12-01</th>\n",
       "      <td>0.000</td>\n",
       "      <td>1.822152</td>\n",
       "    </tr>\n",
       "  </tbody>\n",
       "</table>\n",
       "</div>"
      ],
      "text/plain": [
       "            Rainfall  Predictions\n",
       "Datetime                         \n",
       "1969-01-01     6.052     2.955326\n",
       "1969-02-01     0.872     3.546690\n",
       "1969-03-01     0.312     5.136308\n",
       "1969-04-01     0.000     5.451129\n",
       "1969-05-01     4.085     7.254107\n",
       "1969-06-01    17.161    26.928999\n",
       "1969-07-01   144.558   149.738355\n",
       "1969-08-01   109.526   187.078562\n",
       "1969-09-01    86.345   110.265530\n",
       "1969-10-01     0.000    17.157225\n",
       "1969-11-01     5.077     4.757909\n",
       "1969-12-01     0.000     2.504088\n",
       "1970-01-01     3.647     2.412438\n",
       "1970-02-01     3.230     2.205474\n",
       "1970-03-01     3.967     2.289795\n",
       "1970-04-01     4.309     4.717695\n",
       "1970-05-01    15.802     4.845499\n",
       "1970-06-01   107.894    17.149132\n",
       "1970-07-01    96.931   176.532725\n",
       "1970-08-01   339.508   181.021706\n",
       "1970-09-01   152.583   103.129536\n",
       "1970-10-01     0.019    10.894767\n",
       "1970-11-01     0.039     2.315804\n",
       "1970-12-01     0.000     1.822152"
      ]
     },
     "execution_count": 82,
     "metadata": {},
     "output_type": "execute_result"
    }
   ],
   "source": [
    "test"
   ]
  },
  {
   "cell_type": "code",
   "execution_count": 83,
   "metadata": {
    "scrolled": true
   },
   "outputs": [
    {
     "data": {
      "text/plain": [
       "<matplotlib.axes._subplots.AxesSubplot at 0x26e06f026a0>"
      ]
     },
     "execution_count": 83,
     "metadata": {},
     "output_type": "execute_result"
    },
    {
     "data": {
      "image/png": "[encoded data removed]",
      "text/plain": [
       "<Figure size 864x576 with 1 Axes>"
      ]
     },
     "metadata": {
      "needs_background": "light"
     },
     "output_type": "display_data"
    }
   ],
   "source": [
    "test.plot(figsize=(12,8))"
   ]
  },
  {
   "cell_type": "markdown",
   "metadata": {},
   "source": [
    "#### Evaluation"
   ]
  },
  {
   "cell_type": "code",
   "execution_count": 84,
   "metadata": {},
   "outputs": [
    {
     "name": "stdout",
     "output_type": "stream",
     "text": [
      "45.403909924469474\n"
     ]
    }
   ],
   "source": [
    "from statsmodels.tools.eval_measures import rmse\n",
    "\n",
    "error = rmse(test['Rainfall'], test['Predictions'])\n",
    "print(error)"
   ]
  },
  {
   "cell_type": "markdown",
   "metadata": {},
   "source": [
    "### JAIPUR"
   ]
  },
  {
   "cell_type": "code",
   "execution_count": 85,
   "metadata": {},
   "outputs": [],
   "source": [
    "#Scaled the data\n",
    "\n",
    "scaler = MinMaxScaler()\n",
    "scaler.fit(train_j)\n",
    "scaled_train = scaler.transform(train_j)\n",
    "scaled_test = scaler.transform(test_j)"
   ]
  },
  {
   "cell_type": "code",
   "execution_count": 86,
   "metadata": {},
   "outputs": [],
   "source": [
    "# define generator\n",
    "n_input = 24\n",
    "n_features = 1\n",
    "generator = TimeseriesGenerator(scaled_train, scaled_train, length=n_input, batch_size=1)"
   ]
  },
  {
   "cell_type": "code",
   "execution_count": 87,
   "metadata": {},
   "outputs": [],
   "source": [
    "# define model\n",
    "model = Sequential()\n",
    "model.add(LSTM(100, activation='relu', input_shape=(n_input, n_features)))\n",
    "model.add(Dense(1))\n",
    "model.compile(optimizer='adam', loss='mse')"
   ]
  },
  {
   "cell_type": "code",
   "execution_count": 88,
   "metadata": {},
   "outputs": [
    {
     "name": "stdout",
     "output_type": "stream",
     "text": [
      "Model: \"sequential_4\"\n",
      "_________________________________________________________________\n",
      "Layer (type)                 Output Shape              Param #   \n",
      "=================================================================\n",
      "lstm_4 (LSTM)                (None, 100)               40800     \n",
      "_________________________________________________________________\n",
      "dense_4 (Dense)              (None, 1)                 101       \n",
      "=================================================================\n",
      "Total params: 40,901\n",
      "Trainable params: 40,901\n",
      "Non-trainable params: 0\n",
      "_________________________________________________________________\n"
     ]
    }
   ],
   "source": [
    "model.summary()"
   ]
  },
  {
   "cell_type": "code",
   "execution_count": 89,
   "metadata": {},
   "outputs": [
    {
     "name": "stdout",
     "output_type": "stream",
     "text": [
      "Epoch 1/50\n",
      "792/792 [==============================] - 22s 28ms/step - loss: 0.0237\n",
      "Epoch 2/50\n",
      "792/792 [==============================] - 20s 26ms/step - loss: 0.0146\n",
      "Epoch 3/50\n",
      "792/792 [==============================] - 22s 28ms/step - loss: 0.0130\n",
      "Epoch 4/50\n",
      "792/792 [==============================] - 23s 29ms/step - loss: 0.0129\n",
      "Epoch 5/50\n",
      "792/792 [==============================] - 22s 28ms/step - loss: 0.0122\n",
      "Epoch 6/50\n",
      "792/792 [==============================] - 21s 27ms/step - loss: 0.0117\n",
      "Epoch 7/50\n",
      "792/792 [==============================] - 21s 26ms/step - loss: 0.0121\n",
      "Epoch 8/50\n",
      "792/792 [==============================] - 22s 28ms/step - loss: 0.0110\n",
      "Epoch 9/50\n",
      "792/792 [==============================] - 22s 27ms/step - loss: 0.0108 \n",
      "Epoch 10/50\n",
      "792/792 [==============================] - 23s 29ms/step - loss: 0.0106\n",
      "Epoch 11/50\n",
      "792/792 [==============================] - 22s 28ms/step - loss: 0.0105\n",
      "Epoch 12/50\n",
      "792/792 [==============================] - 21s 27ms/step - loss: 0.0107 0s - l\n",
      "Epoch 13/50\n",
      "792/792 [==============================] - 22s 28ms/step - loss: 0.0106\n",
      "Epoch 14/50\n",
      "792/792 [==============================] - 22s 28ms/step - loss: 0.0100\n",
      "Epoch 15/50\n",
      "792/792 [==============================] - 22s 27ms/step - loss: 0.0101\n",
      "Epoch 16/50\n",
      "792/792 [==============================] - 22s 28ms/step - loss: 0.0100\n",
      "Epoch 17/50\n",
      "792/792 [==============================] - 22s 28ms/step - loss: 0.0102\n",
      "Epoch 18/50\n",
      "792/792 [==============================] - 23s 29ms/step - loss: 0.0101\n",
      "Epoch 19/50\n",
      "792/792 [==============================] - 22s 28ms/step - loss: 0.0098\n",
      "Epoch 20/50\n",
      "792/792 [==============================] - 22s 28ms/step - loss: 0.0097\n",
      "Epoch 21/50\n",
      "792/792 [==============================] - 22s 28ms/step - loss: 0.0099\n",
      "Epoch 22/50\n",
      "792/792 [==============================] - 22s 28ms/step - loss: 0.0098\n",
      "Epoch 23/50\n",
      "792/792 [==============================] - 22s 28ms/step - loss: 0.0094\n",
      "Epoch 24/50\n",
      "792/792 [==============================] - 22s 28ms/step - loss: 0.0095\n",
      "Epoch 25/50\n",
      "792/792 [==============================] - 22s 28ms/step - loss: 0.0094\n",
      "Epoch 26/50\n",
      "792/792 [==============================] - 22s 28ms/step - loss: 0.0094\n",
      "Epoch 27/50\n",
      "792/792 [==============================] - 22s 28ms/step - loss: 0.0093\n",
      "Epoch 28/50\n",
      "792/792 [==============================] - 22s 28ms/step - loss: 0.0096\n",
      "Epoch 29/50\n",
      "792/792 [==============================] - 22s 28ms/step - loss: 0.0097\n",
      "Epoch 30/50\n",
      "792/792 [==============================] - 22s 27ms/step - loss: 0.0092\n",
      "Epoch 31/50\n",
      "792/792 [==============================] - 23s 29ms/step - loss: 0.0093\n",
      "Epoch 32/50\n",
      "792/792 [==============================] - 19s 25ms/step - loss: 0.0093\n",
      "Epoch 33/50\n",
      "792/792 [==============================] - 22s 28ms/step - loss: 0.0086\n",
      "Epoch 34/50\n",
      "792/792 [==============================] - 22s 28ms/step - loss: 0.0091\n",
      "Epoch 35/50\n",
      "792/792 [==============================] - 22s 28ms/step - loss: 0.0089\n",
      "Epoch 36/50\n",
      "792/792 [==============================] - 22s 28ms/step - loss: 0.0091\n",
      "Epoch 37/50\n",
      "792/792 [==============================] - 22s 27ms/step - loss: 0.0093\n",
      "Epoch 38/50\n",
      "792/792 [==============================] - 21s 27ms/step - loss: 0.0086\n",
      "Epoch 39/50\n",
      "792/792 [==============================] - 22s 28ms/step - loss: 0.0094\n",
      "Epoch 40/50\n",
      "792/792 [==============================] - 22s 28ms/step - loss: 0.0087\n",
      "Epoch 41/50\n",
      "792/792 [==============================] - 23s 29ms/step - loss: 0.0091\n",
      "Epoch 42/50\n",
      "792/792 [==============================] - 22s 28ms/step - loss: 0.0090\n",
      "Epoch 43/50\n",
      "792/792 [==============================] - 22s 28ms/step - loss: 0.0087\n",
      "Epoch 44/50\n",
      "792/792 [==============================] - 22s 28ms/step - loss: 0.0091 0s - loss: 0.00\n",
      "Epoch 45/50\n",
      "792/792 [==============================] - 21s 27ms/step - loss: 0.0087\n",
      "Epoch 46/50\n",
      "792/792 [==============================] - 21s 27ms/step - loss: 0.0084\n",
      "Epoch 47/50\n",
      "792/792 [==============================] - 22s 27ms/step - loss: 0.0089\n",
      "Epoch 48/50\n",
      "792/792 [==============================] - 22s 27ms/step - loss: 0.0086\n",
      "Epoch 49/50\n",
      "792/792 [==============================] - 22s 28ms/step - loss: 0.0083\n",
      "Epoch 50/50\n",
      "792/792 [==============================] - 22s 28ms/step - loss: 0.0085\n"
     ]
    },
    {
     "data": {
      "text/plain": [
       "<keras.callbacks.callbacks.History at 0x26e06aaaa58>"
      ]
     },
     "execution_count": 89,
     "metadata": {},
     "output_type": "execute_result"
    }
   ],
   "source": [
    "# fit model\n",
    "model.fit_generator(generator,epochs=50)"
   ]
  },
  {
   "cell_type": "code",
   "execution_count": 90,
   "metadata": {},
   "outputs": [
    {
     "data": {
      "text/plain": [
       "dict_keys(['loss'])"
      ]
     },
     "execution_count": 90,
     "metadata": {},
     "output_type": "execute_result"
    }
   ],
   "source": [
    "model.history.history.keys()"
   ]
  },
  {
   "cell_type": "code",
   "execution_count": 91,
   "metadata": {},
   "outputs": [
    {
     "data": {
      "text/plain": [
       "[<matplotlib.lines.Line2D at 0x26e50558550>]"
      ]
     },
     "execution_count": 91,
     "metadata": {},
     "output_type": "execute_result"
    },
    {
     "data": {
      "image/png": "[encoded data removed]",
      "text/plain": [
       "<Figure size 432x288 with 1 Axes>"
      ]
     },
     "metadata": {
      "needs_background": "light"
     },
     "output_type": "display_data"
    }
   ],
   "source": [
    "loss_per_epoch = model.history.history['loss']\n",
    "plt.plot(range(len(loss_per_epoch)),loss_per_epoch)"
   ]
  },
  {
   "cell_type": "code",
   "execution_count": 92,
   "metadata": {},
   "outputs": [],
   "source": [
    "test_predictions = []\n",
    "\n",
    "first_eval_batch = scaled_train[-n_input:]\n",
    "current_batch = first_eval_batch.reshape((1, n_input, n_features))\n",
    "\n",
    "for i in range(len(test_j)):\n",
    "    \n",
    "    # get prediction 1 time stamp ahead ([0] is for grabbing just the number instead of [array])\n",
    "    current_pred = model.predict(current_batch)[0]\n",
    "    \n",
    "    # store prediction\n",
    "    test_predictions.append(current_pred) \n",
    "    \n",
    "    # update batch to now include prediction and drop first value\n",
    "    current_batch = np.append(current_batch[:,1:,:],[[current_pred]],axis=1)"
   ]
  },
  {
   "cell_type": "code",
   "execution_count": 93,
   "metadata": {},
   "outputs": [
    {
     "data": {
      "text/plain": [
       "[array([0.01214843], dtype=float32),\n",
       " array([0.01267444], dtype=float32),\n",
       " array([0.01394684], dtype=float32),\n",
       " array([0.01374217], dtype=float32),\n",
       " array([0.02596571], dtype=float32),\n",
       " array([0.08380789], dtype=float32),\n",
       " array([0.4480058], dtype=float32),\n",
       " array([0.33491313], dtype=float32),\n",
       " array([0.18732813], dtype=float32),\n",
       " array([0.02881315], dtype=float32),\n",
       " array([0.01184181], dtype=float32),\n",
       " array([0.00893158], dtype=float32),\n",
       " array([0.0101176], dtype=float32),\n",
       " array([0.00941066], dtype=float32),\n",
       " array([0.00859991], dtype=float32),\n",
       " array([0.0118796], dtype=float32),\n",
       " array([0.02253687], dtype=float32),\n",
       " array([0.0760466], dtype=float32),\n",
       " array([0.43959644], dtype=float32),\n",
       " array([0.29995224], dtype=float32),\n",
       " array([0.14160097], dtype=float32),\n",
       " array([0.01899442], dtype=float32),\n",
       " array([0.00833044], dtype=float32),\n",
       " array([0.01052609], dtype=float32)]"
      ]
     },
     "execution_count": 93,
     "metadata": {},
     "output_type": "execute_result"
    }
   ],
   "source": [
    "test_predictions"
   ]
  },
  {
   "cell_type": "code",
   "execution_count": 94,
   "metadata": {},
   "outputs": [],
   "source": [
    "true_predictions = scaler.inverse_transform(test_predictions)"
   ]
  },
  {
   "cell_type": "code",
   "execution_count": 95,
   "metadata": {},
   "outputs": [],
   "source": [
    "test = test_j\n",
    "test['Predictions'] = true_predictions"
   ]
  },
  {
   "cell_type": "code",
   "execution_count": 96,
   "metadata": {},
   "outputs": [
    {
     "data": {
      "text/html": [
       "<div>\n",
       "<style scoped>\n",
       "    .dataframe tbody tr th:only-of-type {\n",
       "        vertical-align: middle;\n",
       "    }\n",
       "\n",
       "    .dataframe tbody tr th {\n",
       "        vertical-align: top;\n",
       "    }\n",
       "\n",
       "    .dataframe thead th {\n",
       "        text-align: right;\n",
       "    }\n",
       "</style>\n",
       "<table border=\"1\" class=\"dataframe\">\n",
       "  <thead>\n",
       "    <tr style=\"text-align: right;\">\n",
       "      <th></th>\n",
       "      <th>Rainfall</th>\n",
       "      <th>Predictions</th>\n",
       "    </tr>\n",
       "    <tr>\n",
       "      <th>Datetime</th>\n",
       "      <th></th>\n",
       "      <th></th>\n",
       "    </tr>\n",
       "  </thead>\n",
       "  <tbody>\n",
       "    <tr>\n",
       "      <th>1969-01-01</th>\n",
       "      <td>7.506</td>\n",
       "      <td>6.288187</td>\n",
       "    </tr>\n",
       "    <tr>\n",
       "      <th>1969-02-01</th>\n",
       "      <td>3.423</td>\n",
       "      <td>6.560457</td>\n",
       "    </tr>\n",
       "    <tr>\n",
       "      <th>1969-03-01</th>\n",
       "      <td>1.838</td>\n",
       "      <td>7.219065</td>\n",
       "    </tr>\n",
       "    <tr>\n",
       "      <th>1969-04-01</th>\n",
       "      <td>0.095</td>\n",
       "      <td>7.113126</td>\n",
       "    </tr>\n",
       "    <tr>\n",
       "      <th>1969-05-01</th>\n",
       "      <td>12.314</td>\n",
       "      <td>13.440187</td>\n",
       "    </tr>\n",
       "    <tr>\n",
       "      <th>1969-06-01</th>\n",
       "      <td>15.245</td>\n",
       "      <td>43.380051</td>\n",
       "    </tr>\n",
       "    <tr>\n",
       "      <th>1969-07-01</th>\n",
       "      <td>197.733</td>\n",
       "      <td>231.893624</td>\n",
       "    </tr>\n",
       "    <tr>\n",
       "      <th>1969-08-01</th>\n",
       "      <td>118.314</td>\n",
       "      <td>173.355392</td>\n",
       "    </tr>\n",
       "    <tr>\n",
       "      <th>1969-09-01</th>\n",
       "      <td>77.801</td>\n",
       "      <td>96.963475</td>\n",
       "    </tr>\n",
       "    <tr>\n",
       "      <th>1969-10-01</th>\n",
       "      <td>0.005</td>\n",
       "      <td>14.914059</td>\n",
       "    </tr>\n",
       "    <tr>\n",
       "      <th>1969-11-01</th>\n",
       "      <td>2.188</td>\n",
       "      <td>6.129475</td>\n",
       "    </tr>\n",
       "    <tr>\n",
       "      <th>1969-12-01</th>\n",
       "      <td>0.000</td>\n",
       "      <td>4.623104</td>\n",
       "    </tr>\n",
       "    <tr>\n",
       "      <th>1970-01-01</th>\n",
       "      <td>7.151</td>\n",
       "      <td>5.237000</td>\n",
       "    </tr>\n",
       "    <tr>\n",
       "      <th>1970-02-01</th>\n",
       "      <td>12.081</td>\n",
       "      <td>4.871078</td>\n",
       "    </tr>\n",
       "    <tr>\n",
       "      <th>1970-03-01</th>\n",
       "      <td>8.905</td>\n",
       "      <td>4.451428</td>\n",
       "    </tr>\n",
       "    <tr>\n",
       "      <th>1970-04-01</th>\n",
       "      <td>1.194</td>\n",
       "      <td>6.149036</td>\n",
       "    </tr>\n",
       "    <tr>\n",
       "      <th>1970-05-01</th>\n",
       "      <td>24.183</td>\n",
       "      <td>11.665375</td>\n",
       "    </tr>\n",
       "    <tr>\n",
       "      <th>1970-06-01</th>\n",
       "      <td>101.271</td>\n",
       "      <td>39.362709</td>\n",
       "    </tr>\n",
       "    <tr>\n",
       "      <th>1970-07-01</th>\n",
       "      <td>110.573</td>\n",
       "      <td>227.540834</td>\n",
       "    </tr>\n",
       "    <tr>\n",
       "      <th>1970-08-01</th>\n",
       "      <td>332.986</td>\n",
       "      <td>155.259178</td>\n",
       "    </tr>\n",
       "    <tr>\n",
       "      <th>1970-09-01</th>\n",
       "      <td>134.737</td>\n",
       "      <td>73.294501</td>\n",
       "    </tr>\n",
       "    <tr>\n",
       "      <th>1970-10-01</th>\n",
       "      <td>0.325</td>\n",
       "      <td>9.831759</td>\n",
       "    </tr>\n",
       "    <tr>\n",
       "      <th>1970-11-01</th>\n",
       "      <td>0.000</td>\n",
       "      <td>4.311945</td>\n",
       "    </tr>\n",
       "    <tr>\n",
       "      <th>1970-12-01</th>\n",
       "      <td>0.000</td>\n",
       "      <td>5.448441</td>\n",
       "    </tr>\n",
       "  </tbody>\n",
       "</table>\n",
       "</div>"
      ],
      "text/plain": [
       "            Rainfall  Predictions\n",
       "Datetime                         \n",
       "1969-01-01     7.506     6.288187\n",
       "1969-02-01     3.423     6.560457\n",
       "1969-03-01     1.838     7.219065\n",
       "1969-04-01     0.095     7.113126\n",
       "1969-05-01    12.314    13.440187\n",
       "1969-06-01    15.245    43.380051\n",
       "1969-07-01   197.733   231.893624\n",
       "1969-08-01   118.314   173.355392\n",
       "1969-09-01    77.801    96.963475\n",
       "1969-10-01     0.005    14.914059\n",
       "1969-11-01     2.188     6.129475\n",
       "1969-12-01     0.000     4.623104\n",
       "1970-01-01     7.151     5.237000\n",
       "1970-02-01    12.081     4.871078\n",
       "1970-03-01     8.905     4.451428\n",
       "1970-04-01     1.194     6.149036\n",
       "1970-05-01    24.183    11.665375\n",
       "1970-06-01   101.271    39.362709\n",
       "1970-07-01   110.573   227.540834\n",
       "1970-08-01   332.986   155.259178\n",
       "1970-09-01   134.737    73.294501\n",
       "1970-10-01     0.325     9.831759\n",
       "1970-11-01     0.000     4.311945\n",
       "1970-12-01     0.000     5.448441"
      ]
     },
     "execution_count": 96,
     "metadata": {},
     "output_type": "execute_result"
    }
   ],
   "source": [
    "test"
   ]
  },
  {
   "cell_type": "code",
   "execution_count": 97,
   "metadata": {},
   "outputs": [
    {
     "data": {
      "text/plain": [
       "<matplotlib.axes._subplots.AxesSubplot at 0x26e66dcc278>"
      ]
     },
     "execution_count": 97,
     "metadata": {},
     "output_type": "execute_result"
    },
    {
     "data": {
      "image/png": "[encoded data removed]",
      "text/plain": [
       "<Figure size 864x576 with 1 Axes>"
      ]
     },
     "metadata": {
      "needs_background": "light"
     },
     "output_type": "display_data"
    }
   ],
   "source": [
    "test.plot(figsize=(12,8))"
   ]
  },
  {
   "cell_type": "code",
   "execution_count": 108,
   "metadata": {},
   "outputs": [],
   "source": [
    "test_a = test_a.drop(['Predictions'], axis=1)\n",
    "test_j = test_j.drop(['Predictions'], axis=1)"
   ]
  },
  {
   "cell_type": "markdown",
   "metadata": {},
   "source": [
    "#### Evaluation"
   ]
  },
  {
   "cell_type": "code",
   "execution_count": 98,
   "metadata": {},
   "outputs": [
    {
     "name": "stdout",
     "output_type": "stream",
     "text": [
      "49.571822230787994\n"
     ]
    }
   ],
   "source": [
    "from statsmodels.tools.eval_measures import rmse\n",
    "\n",
    "error = rmse(test['Rainfall'], test['Predictions'])\n",
    "print(error)"
   ]
  },
  {
   "cell_type": "markdown",
   "metadata": {},
   "source": [
    "## 3. Holt's Winter Method (Triple Exponential Smoothing)"
   ]
  },
  {
   "cell_type": "markdown",
   "metadata": {},
   "source": [
    "### AJMER"
   ]
  },
  {
   "cell_type": "code",
   "execution_count": 99,
   "metadata": {},
   "outputs": [
    {
     "data": {
      "text/plain": [
       "DatetimeIndex(['1901-01-01', '1901-02-01', '1901-03-01', '1901-04-01',\n",
       "               '1901-05-01', '1901-06-01', '1901-07-01', '1901-08-01',\n",
       "               '1901-09-01', '1901-10-01',\n",
       "               ...\n",
       "               '1970-03-01', '1970-04-01', '1970-05-01', '1970-06-01',\n",
       "               '1970-07-01', '1970-08-01', '1970-09-01', '1970-10-01',\n",
       "               '1970-11-01', '1970-12-01'],\n",
       "              dtype='datetime64[ns]', name='Datetime', length=840, freq='MS')"
      ]
     },
     "execution_count": 99,
     "metadata": {},
     "output_type": "execute_result"
    }
   ],
   "source": [
    "ajmer_data.index.freq = 'MS'\n",
    "ajmer_data.index"
   ]
  },
  {
   "cell_type": "code",
   "execution_count": 100,
   "metadata": {},
   "outputs": [],
   "source": [
    "fitted_model = ExponentialSmoothing(train_a['Rainfall'],trend='add',seasonal='add',seasonal_periods=12).fit()"
   ]
  },
  {
   "cell_type": "code",
   "execution_count": 101,
   "metadata": {},
   "outputs": [],
   "source": [
    "test_predictions = fitted_model.forecast(24).rename('HW Forecast')"
   ]
  },
  {
   "cell_type": "code",
   "execution_count": 102,
   "metadata": {},
   "outputs": [
    {
     "data": {
      "text/plain": [
       "1969-01-01      3.493738\n",
       "1969-02-01      2.377296\n",
       "1969-03-01      7.399685\n",
       "1969-04-01      2.343780\n",
       "1969-05-01      6.969326\n",
       "1969-06-01     42.547826\n",
       "1969-07-01    198.201694\n",
       "1969-08-01    161.054606\n",
       "1969-09-01     95.853950\n",
       "1969-10-01      7.050945\n",
       "1969-11-01      7.885954\n",
       "1969-12-01      0.078353\n",
       "1970-01-01      0.348095\n",
       "1970-02-01     -0.768347\n",
       "1970-03-01      4.254042\n",
       "1970-04-01     -0.801864\n",
       "1970-05-01      3.823682\n",
       "1970-06-01     39.402182\n",
       "1970-07-01    195.056050\n",
       "1970-08-01    157.908962\n",
       "1970-09-01     92.708307\n",
       "1970-10-01      3.905302\n",
       "1970-11-01      4.740310\n",
       "1970-12-01     -3.067291\n",
       "Freq: MS, Name: HW Forecast, dtype: float64"
      ]
     },
     "execution_count": 102,
     "metadata": {},
     "output_type": "execute_result"
    }
   ],
   "source": [
    "test_predictions"
   ]
  },
  {
   "cell_type": "code",
   "execution_count": 103,
   "metadata": {},
   "outputs": [
    {
     "data": {
      "image/png": "[encoded data removed]",
      "text/plain": [
       "<Figure size 864x576 with 1 Axes>"
      ]
     },
     "metadata": {
      "needs_background": "light"
     },
     "output_type": "display_data"
    }
   ],
   "source": [
    "test_a['Rainfall'].plot(legend=True,label='TEST',figsize=(12,8))\n",
    "test_predictions.plot(legend=True,label='PREDICTION');"
   ]
  },
  {
   "cell_type": "markdown",
   "metadata": {},
   "source": [
    "#### Evaluation"
   ]
  },
  {
   "cell_type": "code",
   "execution_count": 107,
   "metadata": {
    "scrolled": true
   },
   "outputs": [
    {
     "data": {
      "text/html": [
       "<div>\n",
       "<style scoped>\n",
       "    .dataframe tbody tr th:only-of-type {\n",
       "        vertical-align: middle;\n",
       "    }\n",
       "\n",
       "    .dataframe tbody tr th {\n",
       "        vertical-align: top;\n",
       "    }\n",
       "\n",
       "    .dataframe thead th {\n",
       "        text-align: right;\n",
       "    }\n",
       "</style>\n",
       "<table border=\"1\" class=\"dataframe\">\n",
       "  <thead>\n",
       "    <tr style=\"text-align: right;\">\n",
       "      <th></th>\n",
       "      <th>Rainfall</th>\n",
       "      <th>Predictions</th>\n",
       "    </tr>\n",
       "    <tr>\n",
       "      <th>Datetime</th>\n",
       "      <th></th>\n",
       "      <th></th>\n",
       "    </tr>\n",
       "  </thead>\n",
       "  <tbody>\n",
       "    <tr>\n",
       "      <th>1969-01-01</th>\n",
       "      <td>7.506</td>\n",
       "      <td>6.288187</td>\n",
       "    </tr>\n",
       "    <tr>\n",
       "      <th>1969-02-01</th>\n",
       "      <td>3.423</td>\n",
       "      <td>6.560457</td>\n",
       "    </tr>\n",
       "    <tr>\n",
       "      <th>1969-03-01</th>\n",
       "      <td>1.838</td>\n",
       "      <td>7.219065</td>\n",
       "    </tr>\n",
       "    <tr>\n",
       "      <th>1969-04-01</th>\n",
       "      <td>0.095</td>\n",
       "      <td>7.113126</td>\n",
       "    </tr>\n",
       "    <tr>\n",
       "      <th>1969-05-01</th>\n",
       "      <td>12.314</td>\n",
       "      <td>13.440187</td>\n",
       "    </tr>\n",
       "    <tr>\n",
       "      <th>1969-06-01</th>\n",
       "      <td>15.245</td>\n",
       "      <td>43.380051</td>\n",
       "    </tr>\n",
       "    <tr>\n",
       "      <th>1969-07-01</th>\n",
       "      <td>197.733</td>\n",
       "      <td>231.893624</td>\n",
       "    </tr>\n",
       "    <tr>\n",
       "      <th>1969-08-01</th>\n",
       "      <td>118.314</td>\n",
       "      <td>173.355392</td>\n",
       "    </tr>\n",
       "    <tr>\n",
       "      <th>1969-09-01</th>\n",
       "      <td>77.801</td>\n",
       "      <td>96.963475</td>\n",
       "    </tr>\n",
       "    <tr>\n",
       "      <th>1969-10-01</th>\n",
       "      <td>0.005</td>\n",
       "      <td>14.914059</td>\n",
       "    </tr>\n",
       "    <tr>\n",
       "      <th>1969-11-01</th>\n",
       "      <td>2.188</td>\n",
       "      <td>6.129475</td>\n",
       "    </tr>\n",
       "    <tr>\n",
       "      <th>1969-12-01</th>\n",
       "      <td>0.000</td>\n",
       "      <td>4.623104</td>\n",
       "    </tr>\n",
       "    <tr>\n",
       "      <th>1970-01-01</th>\n",
       "      <td>7.151</td>\n",
       "      <td>5.237000</td>\n",
       "    </tr>\n",
       "    <tr>\n",
       "      <th>1970-02-01</th>\n",
       "      <td>12.081</td>\n",
       "      <td>4.871078</td>\n",
       "    </tr>\n",
       "    <tr>\n",
       "      <th>1970-03-01</th>\n",
       "      <td>8.905</td>\n",
       "      <td>4.451428</td>\n",
       "    </tr>\n",
       "    <tr>\n",
       "      <th>1970-04-01</th>\n",
       "      <td>1.194</td>\n",
       "      <td>6.149036</td>\n",
       "    </tr>\n",
       "    <tr>\n",
       "      <th>1970-05-01</th>\n",
       "      <td>24.183</td>\n",
       "      <td>11.665375</td>\n",
       "    </tr>\n",
       "    <tr>\n",
       "      <th>1970-06-01</th>\n",
       "      <td>101.271</td>\n",
       "      <td>39.362709</td>\n",
       "    </tr>\n",
       "    <tr>\n",
       "      <th>1970-07-01</th>\n",
       "      <td>110.573</td>\n",
       "      <td>227.540834</td>\n",
       "    </tr>\n",
       "    <tr>\n",
       "      <th>1970-08-01</th>\n",
       "      <td>332.986</td>\n",
       "      <td>155.259178</td>\n",
       "    </tr>\n",
       "    <tr>\n",
       "      <th>1970-09-01</th>\n",
       "      <td>134.737</td>\n",
       "      <td>73.294501</td>\n",
       "    </tr>\n",
       "    <tr>\n",
       "      <th>1970-10-01</th>\n",
       "      <td>0.325</td>\n",
       "      <td>9.831759</td>\n",
       "    </tr>\n",
       "    <tr>\n",
       "      <th>1970-11-01</th>\n",
       "      <td>0.000</td>\n",
       "      <td>4.311945</td>\n",
       "    </tr>\n",
       "    <tr>\n",
       "      <th>1970-12-01</th>\n",
       "      <td>0.000</td>\n",
       "      <td>5.448441</td>\n",
       "    </tr>\n",
       "  </tbody>\n",
       "</table>\n",
       "</div>"
      ],
      "text/plain": [
       "            Rainfall  Predictions\n",
       "Datetime                         \n",
       "1969-01-01     7.506     6.288187\n",
       "1969-02-01     3.423     6.560457\n",
       "1969-03-01     1.838     7.219065\n",
       "1969-04-01     0.095     7.113126\n",
       "1969-05-01    12.314    13.440187\n",
       "1969-06-01    15.245    43.380051\n",
       "1969-07-01   197.733   231.893624\n",
       "1969-08-01   118.314   173.355392\n",
       "1969-09-01    77.801    96.963475\n",
       "1969-10-01     0.005    14.914059\n",
       "1969-11-01     2.188     6.129475\n",
       "1969-12-01     0.000     4.623104\n",
       "1970-01-01     7.151     5.237000\n",
       "1970-02-01    12.081     4.871078\n",
       "1970-03-01     8.905     4.451428\n",
       "1970-04-01     1.194     6.149036\n",
       "1970-05-01    24.183    11.665375\n",
       "1970-06-01   101.271    39.362709\n",
       "1970-07-01   110.573   227.540834\n",
       "1970-08-01   332.986   155.259178\n",
       "1970-09-01   134.737    73.294501\n",
       "1970-10-01     0.325     9.831759\n",
       "1970-11-01     0.000     4.311945\n",
       "1970-12-01     0.000     5.448441"
      ]
     },
     "execution_count": 107,
     "metadata": {},
     "output_type": "execute_result"
    }
   ],
   "source": []
  },
  {
   "cell_type": "code",
   "execution_count": 109,
   "metadata": {
    "scrolled": true
   },
   "outputs": [
    {
     "data": {
      "text/plain": [
       "48.957564840647855"
      ]
     },
     "execution_count": 109,
     "metadata": {},
     "output_type": "execute_result"
    }
   ],
   "source": [
    "np.sqrt(mean_squared_error(test_a,test_predictions))"
   ]
  },
  {
   "cell_type": "markdown",
   "metadata": {},
   "source": [
    "### JAIPUR"
   ]
  },
  {
   "cell_type": "code",
   "execution_count": 110,
   "metadata": {
    "scrolled": true
   },
   "outputs": [
    {
     "data": {
      "text/plain": [
       "DatetimeIndex(['1901-01-01', '1901-02-01', '1901-03-01', '1901-04-01',\n",
       "               '1901-05-01', '1901-06-01', '1901-07-01', '1901-08-01',\n",
       "               '1901-09-01', '1901-10-01',\n",
       "               ...\n",
       "               '1970-03-01', '1970-04-01', '1970-05-01', '1970-06-01',\n",
       "               '1970-07-01', '1970-08-01', '1970-09-01', '1970-10-01',\n",
       "               '1970-11-01', '1970-12-01'],\n",
       "              dtype='datetime64[ns]', name='Datetime', length=840, freq='MS')"
      ]
     },
     "execution_count": 110,
     "metadata": {},
     "output_type": "execute_result"
    }
   ],
   "source": [
    "jaipur_data.index.freq = 'MS'\n",
    "jaipur_data.index"
   ]
  },
  {
   "cell_type": "code",
   "execution_count": 111,
   "metadata": {},
   "outputs": [],
   "source": [
    "fitted_model = ExponentialSmoothing(train_j['Rainfall'],trend='add',seasonal='add',seasonal_periods=12).fit()"
   ]
  },
  {
   "cell_type": "code",
   "execution_count": 112,
   "metadata": {},
   "outputs": [],
   "source": [
    "test_predictions = fitted_model.forecast(24).rename('HW Forecast')"
   ]
  },
  {
   "cell_type": "code",
   "execution_count": 113,
   "metadata": {},
   "outputs": [
    {
     "data": {
      "text/plain": [
       "1969-01-01      5.195165\n",
       "1969-02-01      4.426737\n",
       "1969-03-01      5.700909\n",
       "1969-04-01      2.661323\n",
       "1969-05-01      9.033492\n",
       "1969-06-01     42.276857\n",
       "1969-07-01    235.288177\n",
       "1969-08-01    177.436878\n",
       "1969-09-01     89.884499\n",
       "1969-10-01      6.190983\n",
       "1969-11-01      3.152395\n",
       "1969-12-01      0.712159\n",
       "1970-01-01      1.452349\n",
       "1970-02-01      0.683921\n",
       "1970-03-01      1.958093\n",
       "1970-04-01     -1.081493\n",
       "1970-05-01      5.290676\n",
       "1970-06-01     38.534041\n",
       "1970-07-01    231.545361\n",
       "1970-08-01    173.694062\n",
       "1970-09-01     86.141684\n",
       "1970-10-01      2.448168\n",
       "1970-11-01     -0.590421\n",
       "1970-12-01     -3.030657\n",
       "Freq: MS, Name: HW Forecast, dtype: float64"
      ]
     },
     "execution_count": 113,
     "metadata": {},
     "output_type": "execute_result"
    }
   ],
   "source": [
    "test_predictions"
   ]
  },
  {
   "cell_type": "code",
   "execution_count": 114,
   "metadata": {
    "scrolled": true
   },
   "outputs": [
    {
     "data": {
      "image/png": "[encoded data removed]",
      "text/plain": [
       "<Figure size 864x576 with 1 Axes>"
      ]
     },
     "metadata": {
      "needs_background": "light"
     },
     "output_type": "display_data"
    }
   ],
   "source": [
    "test_j['Rainfall'].plot(legend=True,label='TEST',figsize=(12,8))\n",
    "test_predictions.plot(legend=True,label='PREDICTION');"
   ]
  },
  {
   "cell_type": "markdown",
   "metadata": {},
   "source": [
    "#### Evaluation"
   ]
  },
  {
   "cell_type": "code",
   "execution_count": 115,
   "metadata": {},
   "outputs": [
    {
     "data": {
      "text/plain": [
       "46.88345048328707"
      ]
     },
     "execution_count": 115,
     "metadata": {},
     "output_type": "execute_result"
    }
   ],
   "source": [
    "np.sqrt(mean_squared_error(test_j,test_predictions))"
   ]
  },
  {
   "cell_type": "markdown",
   "metadata": {},
   "source": [
    "# RESULTS"
   ]
  },
  {
   "cell_type": "markdown",
   "metadata": {},
   "source": [
    "### RMSE VALUES\n",
    "\n",
    "#### Ajmer Data\n",
    "1. ARIMA         = 47.18\n",
    "2. LSTM          = 45.40\n",
    "3. Holt's Winter = 48.95\n",
    "\n",
    "#### Jaipur Data\n",
    "1. ARIMA         = 45.51\n",
    "2. LSTM          = 49.57\n",
    "3. Holt's Winter = 46.88"
   ]
  },
  {
   "cell_type": "markdown",
   "metadata": {},
   "source": [
    "## Therefore we will choose LSTM on Ajmer Data and ARIMA on Jaipur Data for our future rainfall forecasting"
   ]
  },
  {
   "cell_type": "markdown",
   "metadata": {},
   "source": [
    "# Forecasting"
   ]
  },
  {
   "cell_type": "markdown",
   "metadata": {},
   "source": [
    "#### Now we will train our model on all the data from Jan 1901 to Dec 1970"
   ]
  },
  {
   "cell_type": "markdown",
   "metadata": {},
   "source": [
    "## AJMER (LSTM)"
   ]
  },
  {
   "cell_type": "code",
   "execution_count": 19,
   "metadata": {},
   "outputs": [],
   "source": [
    "scaler = MinMaxScaler()\n",
    "scaler.fit(ajmer_data)\n",
    "scaled_data = scaler.transform(ajmer_data)"
   ]
  },
  {
   "cell_type": "code",
   "execution_count": 20,
   "metadata": {},
   "outputs": [],
   "source": [
    "# define generator\n",
    "n_input = 24\n",
    "n_features = 1\n",
    "generator = TimeseriesGenerator(scaled_data, scaled_data, length=n_input, batch_size=1)"
   ]
  },
  {
   "cell_type": "code",
   "execution_count": 21,
   "metadata": {},
   "outputs": [],
   "source": [
    "# define model\n",
    "model = Sequential()\n",
    "model.add(LSTM(100, activation='relu', input_shape=(n_input, n_features)))\n",
    "model.add(Dense(1))\n",
    "model.compile(optimizer='adam', loss='mse')"
   ]
  },
  {
   "cell_type": "code",
   "execution_count": 22,
   "metadata": {},
   "outputs": [
    {
     "name": "stdout",
     "output_type": "stream",
     "text": [
      "Model: \"sequential_1\"\n",
      "_________________________________________________________________\n",
      "Layer (type)                 Output Shape              Param #   \n",
      "=================================================================\n",
      "lstm_1 (LSTM)                (None, 100)               40800     \n",
      "_________________________________________________________________\n",
      "dense_1 (Dense)              (None, 1)                 101       \n",
      "=================================================================\n",
      "Total params: 40,901\n",
      "Trainable params: 40,901\n",
      "Non-trainable params: 0\n",
      "_________________________________________________________________\n"
     ]
    }
   ],
   "source": [
    "model.summary()"
   ]
  },
  {
   "cell_type": "code",
   "execution_count": 23,
   "metadata": {},
   "outputs": [
    {
     "name": "stdout",
     "output_type": "stream",
     "text": [
      "WARNING:tensorflow:From C:\\Users\\Khush\\Anaconda3\\envs\\tsa_course\\lib\\site-packages\\keras\\backend\\tensorflow_backend.py:422: The name tf.global_variables is deprecated. Please use tf.compat.v1.global_variables instead.\n",
      "\n",
      "Epoch 1/50\n",
      "816/816 [==============================] - 44s 54ms/step - loss: 0.0253\n",
      "Epoch 2/50\n",
      "816/816 [==============================] - 45s 56ms/step - loss: 0.0182 0s \n",
      "Epoch 3/50\n",
      "816/816 [==============================] - 44s 54ms/step - loss: 0.0166\n",
      "Epoch 4/50\n",
      "816/816 [==============================] - 44s 54ms/step - loss: 0.0158\n",
      "Epoch 5/50\n",
      "816/816 [==============================] - 44s 54ms/step - loss: 0.0151\n",
      "Epoch 6/50\n",
      "816/816 [==============================] - 44s 54ms/step - loss: 0.0151\n",
      "Epoch 7/50\n",
      "816/816 [==============================] - 47s 58ms/step - loss: 0.0143\n",
      "Epoch 8/50\n",
      "816/816 [==============================] - 43s 53ms/step - loss: 0.0147\n",
      "Epoch 9/50\n",
      "816/816 [==============================] - 42s 51ms/step - loss: 0.0140\n",
      "Epoch 10/50\n",
      "816/816 [==============================] - 42s 51ms/step - loss: 0.0141\n",
      "Epoch 11/50\n",
      "816/816 [==============================] - 42s 51ms/step - loss: 0.0137\n",
      "Epoch 12/50\n",
      "816/816 [==============================] - 41s 51ms/step - loss: 0.0132\n",
      "Epoch 13/50\n",
      "816/816 [==============================] - 41s 50ms/step - loss: 0.0135\n",
      "Epoch 14/50\n",
      "816/816 [==============================] - 57s 70ms/step - loss: 0.0130\n",
      "Epoch 15/50\n",
      "816/816 [==============================] - 41s 50ms/step - loss: 0.0144\n",
      "Epoch 16/50\n",
      "816/816 [==============================] - 42s 52ms/step - loss: 0.0131\n",
      "Epoch 17/50\n",
      "816/816 [==============================] - 42s 51ms/step - loss: 0.0134\n",
      "Epoch 18/50\n",
      "816/816 [==============================] - 46s 56ms/step - loss: 0.0127\n",
      "Epoch 19/50\n",
      "816/816 [==============================] - 43s 53ms/step - loss: 0.0127\n",
      "Epoch 20/50\n",
      "816/816 [==============================] - 44s 54ms/step - loss: 0.0129\n",
      "Epoch 21/50\n",
      "816/816 [==============================] - 43s 52ms/step - loss: 0.0127\n",
      "Epoch 22/50\n",
      "816/816 [==============================] - 43s 53ms/step - loss: 0.0130\n",
      "Epoch 23/50\n",
      "816/816 [==============================] - 45s 55ms/step - loss: 0.0153\n",
      "Epoch 24/50\n",
      "816/816 [==============================] - 44s 54ms/step - loss: 0.0133\n",
      "Epoch 25/50\n",
      "816/816 [==============================] - 43s 52ms/step - loss: 0.0136\n",
      "Epoch 26/50\n",
      "816/816 [==============================] - 41s 50ms/step - loss: 0.0129\n",
      "Epoch 27/50\n",
      "816/816 [==============================] - 42s 51ms/step - loss: 0.0129\n",
      "Epoch 28/50\n",
      "816/816 [==============================] - 42s 51ms/step - loss: 0.0130\n",
      "Epoch 29/50\n",
      "816/816 [==============================] - 44s 54ms/step - loss: 0.0120\n",
      "Epoch 30/50\n",
      "816/816 [==============================] - 42s 51ms/step - loss: 0.0124\n",
      "Epoch 31/50\n",
      "816/816 [==============================] - 44s 53ms/step - loss: 0.0123\n",
      "Epoch 32/50\n",
      "816/816 [==============================] - 42s 52ms/step - loss: 0.0130\n",
      "Epoch 33/50\n",
      "816/816 [==============================] - 42s 52ms/step - loss: 0.0127\n",
      "Epoch 34/50\n",
      "816/816 [==============================] - 43s 52ms/step - loss: 0.0127\n",
      "Epoch 35/50\n",
      "816/816 [==============================] - 38s 46ms/step - loss: 0.0120\n",
      "Epoch 36/50\n",
      "816/816 [==============================] - 42s 51ms/step - loss: 0.0121\n",
      "Epoch 37/50\n",
      "816/816 [==============================] - 41s 51ms/step - loss: 0.0126\n",
      "Epoch 38/50\n",
      "816/816 [==============================] - 42s 51ms/step - loss: 0.0121\n",
      "Epoch 39/50\n",
      "816/816 [==============================] - 42s 52ms/step - loss: 0.0117\n",
      "Epoch 40/50\n",
      "816/816 [==============================] - 41s 51ms/step - loss: 0.0121\n",
      "Epoch 41/50\n",
      "816/816 [==============================] - 41s 51ms/step - loss: 0.0120\n",
      "Epoch 42/50\n",
      "816/816 [==============================] - 45s 55ms/step - loss: 0.0120\n",
      "Epoch 43/50\n",
      "816/816 [==============================] - 45s 55ms/step - loss: 0.0118\n",
      "Epoch 44/50\n",
      "816/816 [==============================] - 45s 55ms/step - loss: 0.0123\n",
      "Epoch 45/50\n",
      "816/816 [==============================] - 41s 50ms/step - loss: 0.0118\n",
      "Epoch 46/50\n",
      "816/816 [==============================] - 42s 52ms/step - loss: 0.0115\n",
      "Epoch 47/50\n",
      "816/816 [==============================] - 42s 51ms/step - loss: 0.0119 0s - loss: 0\n",
      "Epoch 48/50\n",
      "816/816 [==============================] - 44s 54ms/step - loss: 0.0114\n",
      "Epoch 49/50\n",
      "816/816 [==============================] - 48s 58ms/step - loss: 0.0116\n",
      "Epoch 50/50\n",
      "816/816 [==============================] - 43s 53ms/step - loss: 0.0111\n"
     ]
    },
    {
     "data": {
      "text/plain": [
       "<keras.callbacks.callbacks.History at 0x1a2a8f510f0>"
      ]
     },
     "execution_count": 23,
     "metadata": {},
     "output_type": "execute_result"
    }
   ],
   "source": [
    "# fit model\n",
    "model.fit_generator(generator,epochs=50)"
   ]
  },
  {
   "cell_type": "code",
   "execution_count": 24,
   "metadata": {},
   "outputs": [
    {
     "data": {
      "text/plain": [
       "dict_keys(['loss'])"
      ]
     },
     "execution_count": 24,
     "metadata": {},
     "output_type": "execute_result"
    }
   ],
   "source": [
    "model.history.history.keys()"
   ]
  },
  {
   "cell_type": "code",
   "execution_count": 25,
   "metadata": {},
   "outputs": [
    {
     "data": {
      "text/plain": [
       "[<matplotlib.lines.Line2D at 0x1a39d732710>]"
      ]
     },
     "execution_count": 25,
     "metadata": {},
     "output_type": "execute_result"
    },
    {
     "data": {
      "image/png": "[encoded data removed]",
      "text/plain": [
       "<Figure size 432x288 with 1 Axes>"
      ]
     },
     "metadata": {
      "needs_background": "light"
     },
     "output_type": "display_data"
    }
   ],
   "source": [
    "loss_per_epoch = model.history.history['loss']\n",
    "plt.plot(range(len(loss_per_epoch)),loss_per_epoch)"
   ]
  },
  {
   "cell_type": "code",
   "execution_count": 26,
   "metadata": {},
   "outputs": [],
   "source": [
    "Forecasted_rainfall = []\n",
    "\n",
    "first_eval_batch = scaled_data[-n_input:]\n",
    "current_batch = first_eval_batch.reshape((1, n_input, n_features))\n",
    "\n",
    "for i in range(1,361):\n",
    "    \n",
    "    # get prediction 1 time stamp ahead ([0] is for grabbing just the number instead of [array])\n",
    "    current_pred = model.predict(current_batch)[0]\n",
    "    \n",
    "    # store prediction\n",
    "    Forecasted_rainfall.append(current_pred) \n",
    "    \n",
    "    # update batch to now include prediction and drop first value\n",
    "    current_batch = np.append(current_batch[:,1:,:],[[current_pred]],axis=1)"
   ]
  },
  {
   "cell_type": "code",
   "execution_count": 55,
   "metadata": {},
   "outputs": [],
   "source": [
    "Rainfall_Ajmer = scaler.inverse_transform(Forecasted_rainfall)"
   ]
  },
  {
   "cell_type": "code",
   "execution_count": 60,
   "metadata": {},
   "outputs": [
    {
     "data": {
      "text/plain": [
       "array([[  4.89238599],\n",
       "       [  4.72297523],\n",
       "       [  5.34533455],\n",
       "       [  3.24663559],\n",
       "       [  0.28728671],\n",
       "       [ 18.74473515],\n",
       "       [263.40879335],\n",
       "       [185.45614039],\n",
       "       [ 83.69698087],\n",
       "       [  5.2449828 ],\n",
       "       [  2.53430248],\n",
       "       [  2.08291906],\n",
       "       [  2.91839485],\n",
       "       [  2.89045889],\n",
       "       [  3.84465574],\n",
       "       [  4.59662114],\n",
       "       [  4.19713424],\n",
       "       [ 13.27979894],\n",
       "       [115.54952999],\n",
       "       [181.96563308],\n",
       "       [ 87.35648315],\n",
       "       [ -0.6470771 ],\n",
       "       [  1.77537338],\n",
       "       [  2.15520978],\n",
       "       [  2.79663816],\n",
       "       [  2.87799859],\n",
       "       [  3.24725759],\n",
       "       [  3.45224749],\n",
       "       [  3.06293233],\n",
       "       [  1.36964619],\n",
       "       [170.97168441],\n",
       "       [162.69858443],\n",
       "       [ 87.93705346],\n",
       "       [  0.75064364],\n",
       "       [  1.80747404],\n",
       "       [  2.6847253 ],\n",
       "       [  3.07104201],\n",
       "       [  3.09625333],\n",
       "       [  3.45914358],\n",
       "       [  4.3284711 ],\n",
       "       [  3.17291495],\n",
       "       [  1.86362991],\n",
       "       [133.38251479],\n",
       "       [163.47757306],\n",
       "       [ 91.7723251 ],\n",
       "       [  0.40682245],\n",
       "       [  1.74444235],\n",
       "       [  2.47116262],\n",
       "       [  2.93087882],\n",
       "       [  3.00156044],\n",
       "       [  3.28252911],\n",
       "       [  3.95279602],\n",
       "       [  3.10171274],\n",
       "       [  1.46439654],\n",
       "       [185.28289959],\n",
       "       [157.01035831],\n",
       "       [ 85.33646731],\n",
       "       [  0.77458054],\n",
       "       [  1.83035962],\n",
       "       [  2.75668812],\n",
       "       [  3.08299524],\n",
       "       [  3.11449757],\n",
       "       [  3.50694977],\n",
       "       [  4.35251955],\n",
       "       [  3.16956156],\n",
       "       [  1.84172804],\n",
       "       [151.2252623 ],\n",
       "       [161.18228123],\n",
       "       [ 91.35808596],\n",
       "       [  0.3984322 ],\n",
       "       [  1.73772879],\n",
       "       [  2.5536555 ],\n",
       "       [  2.94856528],\n",
       "       [  3.03247457],\n",
       "       [  3.36085391],\n",
       "       [  3.97015796],\n",
       "       [  3.10910238],\n",
       "       [  1.47745518],\n",
       "       [193.30476525],\n",
       "       [157.14057287],\n",
       "       [ 84.32522216],\n",
       "       [  0.73034072],\n",
       "       [  1.82432891],\n",
       "       [  2.78006048],\n",
       "       [  3.06518709],\n",
       "       [  3.11337188],\n",
       "       [  3.52982183],\n",
       "       [  4.31909038],\n",
       "       [  3.20569508],\n",
       "       [  1.71912623],\n",
       "       [186.25316705],\n",
       "       [160.92969474],\n",
       "       [ 88.27469859],\n",
       "       [  0.38015416],\n",
       "       [  1.78004852],\n",
       "       [  2.71195475],\n",
       "       [  3.00412958],\n",
       "       [  3.09035784],\n",
       "       [  3.49067633],\n",
       "       [  4.10487189],\n",
       "       [  3.16824318],\n",
       "       [  1.48544654],\n",
       "       [205.55767098],\n",
       "       [159.57700484],\n",
       "       [ 82.74431874],\n",
       "       [  0.44887513],\n",
       "       [  1.83376372],\n",
       "       [  2.8141556 ],\n",
       "       [  3.02745461],\n",
       "       [  3.10347395],\n",
       "       [  3.55499258],\n",
       "       [  4.21582807],\n",
       "       [  3.26236478],\n",
       "       [  1.62386881],\n",
       "       [213.63097342],\n",
       "       [161.21808685],\n",
       "       [ 85.42656281],\n",
       "       [  0.33176654],\n",
       "       [  1.85164625],\n",
       "       [  2.83266351],\n",
       "       [  3.0378258 ],\n",
       "       [  3.12798214],\n",
       "       [  3.6059561 ],\n",
       "       [  4.17024622],\n",
       "       [  3.29255549],\n",
       "       [  1.62772251],\n",
       "       [217.63417181],\n",
       "       [161.79327551],\n",
       "       [ 79.81215198],\n",
       "       [  0.30675466],\n",
       "       [  1.90273822],\n",
       "       [  2.83410358],\n",
       "       [  2.99515451],\n",
       "       [  3.0933732 ],\n",
       "       [  3.60010794],\n",
       "       [  4.15113659],\n",
       "       [  3.32219519],\n",
       "       [  1.59841409],\n",
       "       [216.90345586],\n",
       "       [161.95596933],\n",
       "       [ 81.89866783],\n",
       "       [  0.26914051],\n",
       "       [  1.88903392],\n",
       "       [  2.81776929],\n",
       "       [  3.00108042],\n",
       "       [  3.10490726],\n",
       "       [  3.61774708],\n",
       "       [  4.124519  ],\n",
       "       [  3.31363254],\n",
       "       [  1.58716399],\n",
       "       [216.79612012],\n",
       "       [162.07252691],\n",
       "       [ 72.61898094],\n",
       "       [  0.36627407],\n",
       "       [  1.93948699],\n",
       "       [  2.83689244],\n",
       "       [  2.95392328],\n",
       "       [  3.05610722],\n",
       "       [  3.57747927],\n",
       "       [  4.11015551],\n",
       "       [  3.32489616],\n",
       "       [  1.61282153],\n",
       "       [214.06577916],\n",
       "       [161.13730785],\n",
       "       [ 75.71910149],\n",
       "       [  0.38509298],\n",
       "       [  1.90509439],\n",
       "       [  2.83674032],\n",
       "       [  2.9653086 ],\n",
       "       [  3.07600449],\n",
       "       [  3.5967275 ],\n",
       "       [  4.08177334],\n",
       "       [  3.30052319],\n",
       "       [  1.62518042],\n",
       "       [213.83396209],\n",
       "       [160.91733585],\n",
       "       [ 48.12822598],\n",
       "       [  0.67726443],\n",
       "       [  2.05282976],\n",
       "       [  2.91974703],\n",
       "       [  2.91884445],\n",
       "       [  2.94603333],\n",
       "       [  3.57499127],\n",
       "       [  4.04542008],\n",
       "       [  3.33057192],\n",
       "       [  1.71872396],\n",
       "       [205.0134742 ],\n",
       "       [158.02989907],\n",
       "       [ 48.46927521],\n",
       "       [  0.77873848],\n",
       "       [  2.0094621 ],\n",
       "       [  2.91964561],\n",
       "       [  2.91642744],\n",
       "       [  2.96238114],\n",
       "       [  3.58528133],\n",
       "       [  3.93366949],\n",
       "       [  3.25964353],\n",
       "       [  1.77397387],\n",
       "       [200.14929122],\n",
       "       [156.15697295],\n",
       "       [ 10.0450963 ],\n",
       "       [  1.42139396],\n",
       "       [  2.33159776],\n",
       "       [  3.05991022],\n",
       "       [  2.82877262],\n",
       "       [  2.80565041],\n",
       "       [  3.59055482],\n",
       "       [  3.89731286],\n",
       "       [  3.27852667],\n",
       "       [  2.10023706],\n",
       "       [187.55087747],\n",
       "       [150.74277883],\n",
       "       [  9.60970912],\n",
       "       [  1.57747565],\n",
       "       [  2.29422362],\n",
       "       [  3.00595501],\n",
       "       [  2.825044  ],\n",
       "       [  2.83193671],\n",
       "       [  3.59661256],\n",
       "       [  3.74539926],\n",
       "       [  3.17200561],\n",
       "       [  2.32877172],\n",
       "       [177.08714408],\n",
       "       [145.27717498],\n",
       "       [  2.041245  ],\n",
       "       [  1.7239704 ],\n",
       "       [  2.25022719],\n",
       "       [  3.00843626],\n",
       "       [  2.81471337],\n",
       "       [  2.80551181],\n",
       "       [  3.59697765],\n",
       "       [  3.74163345],\n",
       "       [  3.10880829],\n",
       "       [  2.43942704],\n",
       "       [165.22526063],\n",
       "       [139.34661187],\n",
       "       [  2.71890155],\n",
       "       [  1.74434093],\n",
       "       [  2.20603469],\n",
       "       [  2.97615981],\n",
       "       [  2.82364449],\n",
       "       [  2.81606893],\n",
       "       [  3.59161627],\n",
       "       [  3.74984792],\n",
       "       [  3.0470544 ],\n",
       "       [  2.53705416],\n",
       "       [158.24681515],\n",
       "       [134.22494752],\n",
       "       [  2.57813327],\n",
       "       [  1.78560259],\n",
       "       [  2.22277801],\n",
       "       [  2.97534175],\n",
       "       [  2.85260811],\n",
       "       [  2.82640969],\n",
       "       [  3.59328283],\n",
       "       [  3.82016445],\n",
       "       [  3.0521014 ],\n",
       "       [  2.63813608],\n",
       "       [155.0067579 ],\n",
       "       [130.7926514 ],\n",
       "       [  2.74443402],\n",
       "       [  1.81053671],\n",
       "       [  2.24397675],\n",
       "       [  2.9797735 ],\n",
       "       [  2.87814395],\n",
       "       [  2.83878549],\n",
       "       [  3.59863407],\n",
       "       [  3.85832624],\n",
       "       [  3.07338803],\n",
       "       [  2.73511415],\n",
       "       [153.26671012],\n",
       "       [128.08720399],\n",
       "       [  2.70607278],\n",
       "       [  1.85089579],\n",
       "       [  2.26006089],\n",
       "       [  2.98079778],\n",
       "       [  2.89090173],\n",
       "       [  2.84511705],\n",
       "       [  3.60402925],\n",
       "       [  3.87396416],\n",
       "       [  3.08609173],\n",
       "       [  2.79690183],\n",
       "       [152.21373005],\n",
       "       [126.92617153],\n",
       "       [  2.67703142],\n",
       "       [  1.88345957],\n",
       "       [  2.27103718],\n",
       "       [  2.98401258],\n",
       "       [  2.90224311],\n",
       "       [  2.85286164],\n",
       "       [  3.60687896],\n",
       "       [  3.87780096],\n",
       "       [  3.09349489],\n",
       "       [  2.82641984],\n",
       "       [151.59504189],\n",
       "       [126.67802018],\n",
       "       [  2.67026378],\n",
       "       [  1.8970895 ],\n",
       "       [  2.27486384],\n",
       "       [  2.98622676],\n",
       "       [  2.90631992],\n",
       "       [  2.8571548 ],\n",
       "       [  3.60735222],\n",
       "       [  3.87960273],\n",
       "       [  3.09670969],\n",
       "       [  2.83927903],\n",
       "       [151.23672875],\n",
       "       [126.68945959],\n",
       "       [  2.67518232],\n",
       "       [  1.90170719],\n",
       "       [  2.27557035],\n",
       "       [  2.98709216],\n",
       "       [  2.90822649],\n",
       "       [  2.85864895],\n",
       "       [  3.60697699],\n",
       "       [  3.8808535 ],\n",
       "       [  3.09777115],\n",
       "       [  2.8442956 ],\n",
       "       [151.03590356],\n",
       "       [126.69768082],\n",
       "       [  2.68028341],\n",
       "       [  1.9034853 ],\n",
       "       [  2.27568528],\n",
       "       [  2.9872578 ],\n",
       "       [  2.90893638],\n",
       "       [  2.8590546 ],\n",
       "       [  3.60663557],\n",
       "       [  3.88181354],\n",
       "       [  3.09815314],\n",
       "       [  2.846405  ],\n",
       "       [150.91980572],\n",
       "       [126.70187257],\n",
       "       [  2.68322439],\n",
       "       [  1.9044183 ],\n",
       "       [  2.27573599],\n",
       "       [  2.98732203],\n",
       "       [  2.90930823],\n",
       "       [  2.85925743],\n",
       "       [  3.60643612],\n",
       "       [  3.8824085 ],\n",
       "       [  3.09845738],\n",
       "       [  2.84759491],\n",
       "       [150.85438745],\n",
       "       [126.70436057],\n",
       "       [  2.68497546],\n",
       "       [  1.90492537],\n",
       "       [  2.27576641],\n",
       "       [  2.98735583],\n",
       "       [  2.90951782],\n",
       "       [  2.85937237],\n",
       "       [  3.60631781],\n",
       "       [  3.88286824],\n",
       "       [  3.09865006],\n",
       "       [  2.84833185],\n",
       "       [150.81668878],\n",
       "       [126.70571275],\n",
       "       [  2.68594226],\n",
       "       [  1.9052296 ],\n",
       "       [  2.2757867 ],\n",
       "       [  2.98738287]])"
      ]
     },
     "execution_count": 60,
     "metadata": {},
     "output_type": "execute_result"
    }
   ],
   "source": [
    "Rainfall_Ajmer"
   ]
  },
  {
   "cell_type": "code",
   "execution_count": 56,
   "metadata": {},
   "outputs": [],
   "source": [
    "#created a file with no values initially then later delete it\n",
    "forecasted_ajmer = pd.read_csv(\"Forecasted_Ajmer.csv\")"
   ]
  },
  {
   "cell_type": "code",
   "execution_count": 57,
   "metadata": {},
   "outputs": [],
   "source": [
    "forecasted_ajmer['Rainfall']=Rainfall_Ajmer"
   ]
  },
  {
   "cell_type": "code",
   "execution_count": 61,
   "metadata": {},
   "outputs": [],
   "source": [
    "forecasted_ajmer.to_csv('Ajmer_forecasted.csv',index=False)"
   ]
  },
  {
   "cell_type": "markdown",
   "metadata": {},
   "source": [
    "## JAIPUR(ARIMA)"
   ]
  },
  {
   "cell_type": "code",
   "execution_count": 62,
   "metadata": {},
   "outputs": [
    {
     "data": {
      "text/html": [
       "<table class=\"simpletable\">\n",
       "<caption>Statespace Model Results</caption>\n",
       "<tr>\n",
       "  <th>Dep. Variable:</th>              <td>Rainfall</td>            <th>  No. Observations:  </th>    <td>840</td>   \n",
       "</tr>\n",
       "<tr>\n",
       "  <th>Model:</th>           <td>SARIMAX(1, 0, 0)x(1, 0, 1, 12)</td> <th>  Log Likelihood     </th> <td>-4449.753</td>\n",
       "</tr>\n",
       "<tr>\n",
       "  <th>Date:</th>                   <td>Sat, 25 Apr 2020</td>        <th>  AIC                </th> <td>8907.507</td> \n",
       "</tr>\n",
       "<tr>\n",
       "  <th>Time:</th>                       <td>09:12:58</td>            <th>  BIC                </th> <td>8926.440</td> \n",
       "</tr>\n",
       "<tr>\n",
       "  <th>Sample:</th>                    <td>01-01-1901</td>           <th>  HQIC               </th> <td>8914.763</td> \n",
       "</tr>\n",
       "<tr>\n",
       "  <th></th>                          <td>- 12-01-1970</td>          <th>                     </th>     <td> </td>    \n",
       "</tr>\n",
       "<tr>\n",
       "  <th>Covariance Type:</th>               <td>opg</td>              <th>                     </th>     <td> </td>    \n",
       "</tr>\n",
       "</table>\n",
       "<table class=\"simpletable\">\n",
       "<tr>\n",
       "      <td></td>        <th>coef</th>     <th>std err</th>      <th>z</th>      <th>P>|z|</th>  <th>[0.025</th>    <th>0.975]</th>  \n",
       "</tr>\n",
       "<tr>\n",
       "  <th>ar.L1</th>    <td>    0.0550</td> <td>    0.019</td> <td>    2.895</td> <td> 0.004</td> <td>    0.018</td> <td>    0.092</td>\n",
       "</tr>\n",
       "<tr>\n",
       "  <th>ar.S.L12</th> <td>    0.9998</td> <td>    0.000</td> <td> 6731.256</td> <td> 0.000</td> <td>    0.999</td> <td>    1.000</td>\n",
       "</tr>\n",
       "<tr>\n",
       "  <th>ma.S.L12</th> <td>   -0.9640</td> <td>    0.009</td> <td> -107.231</td> <td> 0.000</td> <td>   -0.982</td> <td>   -0.946</td>\n",
       "</tr>\n",
       "<tr>\n",
       "  <th>sigma2</th>   <td> 2218.8975</td> <td>   48.775</td> <td>   45.492</td> <td> 0.000</td> <td> 2123.300</td> <td> 2314.495</td>\n",
       "</tr>\n",
       "</table>\n",
       "<table class=\"simpletable\">\n",
       "<tr>\n",
       "  <th>Ljung-Box (Q):</th>          <td>29.94</td> <th>  Jarque-Bera (JB):  </th> <td>3733.15</td>\n",
       "</tr>\n",
       "<tr>\n",
       "  <th>Prob(Q):</th>                <td>0.88</td>  <th>  Prob(JB):          </th>  <td>0.00</td>  \n",
       "</tr>\n",
       "<tr>\n",
       "  <th>Heteroskedasticity (H):</th> <td>0.78</td>  <th>  Skew:              </th>  <td>1.88</td>  \n",
       "</tr>\n",
       "<tr>\n",
       "  <th>Prob(H) (two-sided):</th>    <td>0.03</td>  <th>  Kurtosis:          </th>  <td>12.62</td> \n",
       "</tr>\n",
       "</table><br/><br/>Warnings:<br/>[1] Covariance matrix calculated using the outer product of gradients (complex-step)."
      ],
      "text/plain": [
       "<class 'statsmodels.iolib.summary.Summary'>\n",
       "\"\"\"\n",
       "                                 Statespace Model Results                                 \n",
       "==========================================================================================\n",
       "Dep. Variable:                           Rainfall   No. Observations:                  840\n",
       "Model:             SARIMAX(1, 0, 0)x(1, 0, 1, 12)   Log Likelihood               -4449.753\n",
       "Date:                            Sat, 25 Apr 2020   AIC                           8907.507\n",
       "Time:                                    09:12:58   BIC                           8926.440\n",
       "Sample:                                01-01-1901   HQIC                          8914.763\n",
       "                                     - 12-01-1970                                         \n",
       "Covariance Type:                              opg                                         \n",
       "==============================================================================\n",
       "                 coef    std err          z      P>|z|      [0.025      0.975]\n",
       "------------------------------------------------------------------------------\n",
       "ar.L1          0.0550      0.019      2.895      0.004       0.018       0.092\n",
       "ar.S.L12       0.9998      0.000   6731.256      0.000       0.999       1.000\n",
       "ma.S.L12      -0.9640      0.009   -107.231      0.000      -0.982      -0.946\n",
       "sigma2      2218.8975     48.775     45.492      0.000    2123.300    2314.495\n",
       "===================================================================================\n",
       "Ljung-Box (Q):                       29.94   Jarque-Bera (JB):              3733.15\n",
       "Prob(Q):                              0.88   Prob(JB):                         0.00\n",
       "Heteroskedasticity (H):               0.78   Skew:                             1.88\n",
       "Prob(H) (two-sided):                  0.03   Kurtosis:                        12.62\n",
       "===================================================================================\n",
       "\n",
       "Warnings:\n",
       "[1] Covariance matrix calculated using the outer product of gradients (complex-step).\n",
       "\"\"\""
      ]
     },
     "execution_count": 62,
     "metadata": {},
     "output_type": "execute_result"
    }
   ],
   "source": [
    "#Fitting our model on whole dataset\n",
    "\n",
    "model = SARIMAX(jaipur_data['Rainfall'],order=(1,0,0),seasonal_order=(1,0,1,12))\n",
    "results = model.fit()\n",
    "results.summary()"
   ]
  },
  {
   "cell_type": "code",
   "execution_count": 63,
   "metadata": {},
   "outputs": [],
   "source": [
    "# Obtain predicted values\n",
    "\n",
    "start=len(jaipur_data)\n",
    "end=len(jaipur_data)+360-1\n",
    "Rainfall_Jaipur = results.predict(start=start, end=end, dynamic=False, typ='levels').rename('SARIMA(1,0,0)(1,0,1,12) Predictions')"
   ]
  },
  {
   "cell_type": "code",
   "execution_count": 64,
   "metadata": {
    "scrolled": true
   },
   "outputs": [
    {
     "data": {
      "text/plain": [
       "1971-01-01      5.054592\n",
       "1971-02-01      5.256650\n",
       "1971-03-01      5.356260\n",
       "1971-04-01      3.279310\n",
       "1971-05-01      9.946390\n",
       "1971-06-01     46.366806\n",
       "1971-07-01    221.985689\n",
       "1971-08-01    178.809440\n",
       "1971-09-01     93.012767\n",
       "1971-10-01      8.066751\n",
       "1971-11-01      5.831988\n",
       "1971-12-01      3.609606\n",
       "1972-01-01      5.252019\n",
       "1972-02-01      5.266418\n",
       "1972-03-01      5.355687\n",
       "1972-04-01      3.278625\n",
       "1972-05-01      9.944212\n",
       "1972-06-01     46.356644\n",
       "1972-07-01    221.937040\n",
       "1972-08-01    178.770253\n",
       "1972-09-01     92.992382\n",
       "1972-10-01      8.064983\n",
       "1972-11-01      5.830710\n",
       "1972-12-01      3.608815\n",
       "1973-01-01      5.250868\n",
       "1973-02-01      5.265264\n",
       "1973-03-01      5.354513\n",
       "1973-04-01      3.277906\n",
       "1973-05-01      9.942033\n",
       "1973-06-01     46.346485\n",
       "                 ...    \n",
       "1998-07-01    220.675889\n",
       "1998-08-01    177.754396\n",
       "1998-09-01     92.463956\n",
       "1998-10-01      8.019154\n",
       "1998-11-01      5.797577\n",
       "1998-12-01      3.588308\n",
       "1999-01-01      5.221030\n",
       "1999-02-01      5.235344\n",
       "1999-03-01      5.324086\n",
       "1999-04-01      3.259279\n",
       "1999-05-01      9.885537\n",
       "1999-06-01     46.083123\n",
       "1999-07-01    220.627527\n",
       "1999-08-01    177.715440\n",
       "1999-09-01     92.443692\n",
       "1999-10-01      8.017397\n",
       "1999-11-01      5.796307\n",
       "1999-12-01      3.587522\n",
       "2000-01-01      5.219886\n",
       "2000-02-01      5.234197\n",
       "2000-03-01      5.322919\n",
       "2000-04-01      3.258565\n",
       "2000-05-01      9.883371\n",
       "2000-06-01     46.073023\n",
       "2000-07-01    220.579175\n",
       "2000-08-01    177.676493\n",
       "2000-09-01     92.423432\n",
       "2000-10-01      8.015640\n",
       "2000-11-01      5.795037\n",
       "2000-12-01      3.586736\n",
       "Freq: MS, Name: SARIMA(1,0,0)(1,0,1,12) Predictions, Length: 360, dtype: float64"
      ]
     },
     "execution_count": 64,
     "metadata": {},
     "output_type": "execute_result"
    }
   ],
   "source": [
    "Rainfall_Jaipur"
   ]
  },
  {
   "cell_type": "code",
   "execution_count": 65,
   "metadata": {},
   "outputs": [],
   "source": [
    "Rainfall_Jaipur.to_csv('Jaipur_forecasted.csv',index=False)"
   ]
  }
 ],
 "metadata": {
  "kernelspec": {
   "display_name": "Python 3 (ipykernel)",
   "language": "python",
   "name": "python3"
  },
  "language_info": {
   "codemirror_mode": {
    "name": "ipython",
    "version": 3
   },
   "file_extension": ".py",
   "mimetype": "text/x-python",
   "name": "python",
   "nbconvert_exporter": "python",
   "pygments_lexer": "ipython3",
   "version": "3.12.4"
  }
 },
 "nbformat": 4,
 "nbformat_minor": 4
}
